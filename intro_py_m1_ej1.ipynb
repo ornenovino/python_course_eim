{
  "nbformat": 4,
  "nbformat_minor": 0,
  "metadata": {
    "colab": {
      "provenance": [],
      "authorship_tag": "ABX9TyNv/A6AOexaBeWJA/tuDm0h",
      "include_colab_link": true
    },
    "kernelspec": {
      "name": "python3",
      "display_name": "Python 3"
    },
    "language_info": {
      "name": "python"
    }
  },
  "cells": [
    {
      "cell_type": "markdown",
      "metadata": {
        "id": "view-in-github",
        "colab_type": "text"
      },
      "source": [
        "<a href=\"https://colab.research.google.com/github/ornenovino/python_course_eim/blob/main/intro_py_m1_ej1.ipynb\" target=\"_parent\"><img src=\"https://colab.research.google.com/assets/colab-badge.svg\" alt=\"Open In Colab\"/></a>"
      ]
    },
    {
      "cell_type": "markdown",
      "source": [
        "## Ejercicio 1"
      ],
      "metadata": {
        "id": "4sdch0XmeDd8"
      }
    },
    {
      "cell_type": "markdown",
      "source": [
        "Este ejercicio tiene como principal objetivo poner en práctica lo aprendido en el **módulo 1**. Realiza el ejercicio siguiendo la consigna, ten en cuenta que hay varias maneras de resolverlo. Por cualquier consulta no dudes escribir en el foro."
      ],
      "metadata": {
        "id": "XGiojH26fMA9"
      }
    },
    {
      "cell_type": "code",
      "source": [
        "# 1. Definir variables segun su tipo\n",
        "peso = ...\n",
        "temperatura = ...\n",
        "tiene_fiebre = ...\n",
        "altura = ...\n",
        "nombre_completo = ...\n",
        "lista_de_marcas = ...\n",
        "artista_canción = ..."
      ],
      "metadata": {
        "id": "A8QvYabpeGKQ"
      },
      "execution_count": null,
      "outputs": []
    },
    {
      "cell_type": "code",
      "source": [
        "# 2. Comparacion de valores contestar en texto que retornarian\n",
        "\n",
        "True == True # ...\n",
        "6 > 10 # ..."
      ],
      "metadata": {
        "id": "Nbh8hEL8eIaS"
      },
      "execution_count": null,
      "outputs": []
    },
    {
      "cell_type": "code",
      "source": [
        "# 3. Definir una funcion edad para calcular la edad de una persona sabiendo su año de nacimiento\n",
        "# ejemplo nacio en 1975\n",
        "def edad(ano_nacimiento):\n",
        "  return edad\n",
        "\n",
        "print(edad(1975)) "
      ],
      "metadata": {
        "id": "jU2pi1g7eJtx"
      },
      "execution_count": null,
      "outputs": []
    },
    {
      "cell_type": "code",
      "source": [
        "# 4. Definir una funcion para calcular la sumatoria de todos los numeros de la lista\n",
        "lista = [10, 20, 30, 40, 50, 60, 70]\n",
        "\n",
        "def total(list):\n",
        "  total = 0\n",
        "  return total\n",
        "\n",
        "print(total(lista))"
      ],
      "metadata": {
        "id": "rzAoP_lueLA0"
      },
      "execution_count": null,
      "outputs": []
    }
  ]
}