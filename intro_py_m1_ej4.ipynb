{
  "nbformat": 4,
  "nbformat_minor": 0,
  "metadata": {
    "colab": {
      "provenance": [],
      "authorship_tag": "ABX9TyPnmHs01y0kc3M61qLYzjtP",
      "include_colab_link": true
    },
    "kernelspec": {
      "name": "python3",
      "display_name": "Python 3"
    },
    "language_info": {
      "name": "python"
    }
  },
  "cells": [
    {
      "cell_type": "markdown",
      "metadata": {
        "id": "view-in-github",
        "colab_type": "text"
      },
      "source": [
        "<a href=\"https://colab.research.google.com/github/ornenovino/python_course_eim/blob/main/intro_py_m1_ej4.ipynb\" target=\"_parent\"><img src=\"https://colab.research.google.com/assets/colab-badge.svg\" alt=\"Open In Colab\"/></a>"
      ]
    },
    {
      "cell_type": "markdown",
      "source": [
        "# Ejercicio 4"
      ],
      "metadata": {
        "id": "nNnQfR1ipBg1"
      }
    },
    {
      "cell_type": "markdown",
      "source": [
        "Este ejercicio tiene como principal objetivo poner en práctica lo aprendido en el **módulo 4**. Realiza el ejercicio siguiendo la consigna, ten en cuenta que hay varias maneras de resolverlo. Por cualquier consulta no dudes escribir en el foro."
      ],
      "metadata": {
        "id": "6kFseAaJpEdf"
      }
    },
    {
      "cell_type": "code",
      "execution_count": null,
      "metadata": {
        "id": "bpLxMdYto_Yg"
      },
      "outputs": [],
      "source": [
        "# 1. Analizar los raitings de las 250 peliculas scrapeadas"
      ]
    },
    {
      "cell_type": "code",
      "source": [
        "# 2. ¿Cuantas peliculas tienen un rating mayor a 8?"
      ],
      "metadata": {
        "id": "feRaXyKUpM2R"
      },
      "execution_count": null,
      "outputs": []
    },
    {
      "cell_type": "code",
      "source": [
        "# 3. Realizar un grafico de linea por año con cantidad de películas estrenadas"
      ],
      "metadata": {
        "id": "VyImqS-GpPiv"
      },
      "execution_count": null,
      "outputs": []
    },
    {
      "cell_type": "code",
      "source": [
        "# 4. Elegir la letra de una canción en internet y analizar sus palabras mas frecuentes"
      ],
      "metadata": {
        "id": "dvmuXY87pQy7"
      },
      "execution_count": null,
      "outputs": []
    }
  ]
}