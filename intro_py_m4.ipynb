{
  "nbformat": 4,
  "nbformat_minor": 0,
  "metadata": {
    "colab": {
      "provenance": [],
      "collapsed_sections": [
        "Tszo5zPsEd_f",
        "03nRbWm3EjeN",
        "zPiTx3OMGYJG"
      ],
      "mount_file_id": "1Zmrs0L9kTG5fqNrqd2EMwi828ZPzUMdG",
      "authorship_tag": "ABX9TyOEjbZ2Vdcm4c4Uk1/jAQj+",
      "include_colab_link": true
    },
    "kernelspec": {
      "name": "python3",
      "display_name": "Python 3"
    },
    "language_info": {
      "name": "python"
    }
  },
  "cells": [
    {
      "cell_type": "markdown",
      "metadata": {
        "id": "view-in-github",
        "colab_type": "text"
      },
      "source": [
        "<a href=\"https://colab.research.google.com/github/ornenovino/python_course_eim/blob/main/intro_py_m4.ipynb\" target=\"_parent\"><img src=\"https://colab.research.google.com/assets/colab-badge.svg\" alt=\"Open In Colab\"/></a>"
      ]
    },
    {
      "cell_type": "markdown",
      "source": [
        "# Introducción a la programación en python"
      ],
      "metadata": {
        "id": "yjqZKO6FB1cp"
      }
    },
    {
      "cell_type": "markdown",
      "source": [
        "## Módulo 4: Análisis de Texto y Webscrapping"
      ],
      "metadata": {
        "id": "S3j_4KLTB3fb"
      }
    },
    {
      "cell_type": "markdown",
      "source": [
        "Introducción al análisis de texto y cómo utilizar Python para realizar webscrapping."
      ],
      "metadata": {
        "id": "qjaQya-1B_iB"
      }
    },
    {
      "cell_type": "markdown",
      "source": [
        "Para este módulo utilizaremos dos librerías nuevas `requests` para realizar peticiones del tipo `GET` a un servidor donde va a estar alojada una página web y `BeautifulSoup` que nos permite acceder a los distintos `<tags>` o elementos `HTML`."
      ],
      "metadata": {
        "id": "Ru3pRX8FDTge"
      }
    },
    {
      "cell_type": "code",
      "source": [
        "import requests\n",
        "from bs4 import BeautifulSoup"
      ],
      "metadata": {
        "id": "I-fC8_giB6Ry"
      },
      "execution_count": null,
      "outputs": []
    },
    {
      "cell_type": "markdown",
      "source": [
        "### Scrapping simple"
      ],
      "metadata": {
        "id": "Tszo5zPsEd_f"
      }
    },
    {
      "cell_type": "code",
      "source": [
        "# Para comenzar de manera simple tomamos un URL que contiene una tabla \n",
        "# de películas alojada en IMBD\n",
        "\n",
        "url = \"https://www.imdb.com/search/title/?groups=top_1000&ref_=adv_prv\" # colocamos el URL en una variable\n",
        "page = requests.get(url) # hacemos un request get al servidor\n",
        "soup = BeautifulSoup(page.content, 'html.parser') # salvamos el html.parser que nos permitirá acceder a los elementos del maquetado web\n",
        "\n",
        "# con un simple comando podemos acceder y guardar los títulos de las películas\n",
        "# sabíendo que los mismos son h3\n",
        "movies = soup.find_all('h3', class_='lister-item-header')\n",
        "movies"
      ],
      "metadata": {
        "colab": {
          "base_uri": "https://localhost:8080/"
        },
        "id": "ei8mIzkgDk0b",
        "outputId": "381e3f53-0863-49af-a22f-b1d82da7275d"
      },
      "execution_count": null,
      "outputs": [
        {
          "output_type": "execute_result",
          "data": {
            "text/plain": [
              "[<h3 class=\"lister-item-header\">\n",
              " <span class=\"lister-item-index unbold text-primary\">1.</span>\n",
              " <a href=\"/title/tt13833688/\">The Whale</a>\n",
              " <span class=\"lister-item-year text-muted unbold\">(2022)</span>\n",
              " </h3>, <h3 class=\"lister-item-header\">\n",
              " <span class=\"lister-item-index unbold text-primary\">2.</span>\n",
              " <a href=\"/title/tt11813216/\">The Banshees of Inisherin</a>\n",
              " <span class=\"lister-item-year text-muted unbold\">(2022)</span>\n",
              " </h3>, <h3 class=\"lister-item-header\">\n",
              " <span class=\"lister-item-index unbold text-primary\">3.</span>\n",
              " <a href=\"/title/tt1630029/\">Avatar: The Way of Water</a>\n",
              " <span class=\"lister-item-year text-muted unbold\">(2022)</span>\n",
              " </h3>, <h3 class=\"lister-item-header\">\n",
              " <span class=\"lister-item-index unbold text-primary\">4.</span>\n",
              " <a href=\"/title/tt6710474/\">Everything Everywhere All at Once</a>\n",
              " <span class=\"lister-item-year text-muted unbold\">(2022)</span>\n",
              " </h3>, <h3 class=\"lister-item-header\">\n",
              " <span class=\"lister-item-index unbold text-primary\">5.</span>\n",
              " <a href=\"/title/tt1016150/\">All Quiet on the Western Front</a>\n",
              " <span class=\"lister-item-year text-muted unbold\">(2022)</span>\n",
              " </h3>, <h3 class=\"lister-item-header\">\n",
              " <span class=\"lister-item-index unbold text-primary\">6.</span>\n",
              " <a href=\"/title/tt3915174/\">Puss in Boots: The Last Wish</a>\n",
              " <span class=\"lister-item-year text-muted unbold\">(2022)</span>\n",
              " </h3>, <h3 class=\"lister-item-header\">\n",
              " <span class=\"lister-item-index unbold text-primary\">7.</span>\n",
              " <a href=\"/title/tt14208870/\">The Fabelmans</a>\n",
              " <span class=\"lister-item-year text-muted unbold\">(2022)</span>\n",
              " </h3>, <h3 class=\"lister-item-header\">\n",
              " <span class=\"lister-item-index unbold text-primary\">8.</span>\n",
              " <a href=\"/title/tt1745960/\">Top Gun: Maverick</a>\n",
              " <span class=\"lister-item-year text-muted unbold\">(2022)</span>\n",
              " </h3>, <h3 class=\"lister-item-header\">\n",
              " <span class=\"lister-item-index unbold text-primary\">9.</span>\n",
              " <a href=\"/title/tt19770238/\">Aftersun</a>\n",
              " <span class=\"lister-item-year text-muted unbold\">(II) (2022)</span>\n",
              " </h3>, <h3 class=\"lister-item-header\">\n",
              " <span class=\"lister-item-index unbold text-primary\">10.</span>\n",
              " <a href=\"/title/tt0120338/\">Titanic</a>\n",
              " <span class=\"lister-item-year text-muted unbold\">(1997)</span>\n",
              " </h3>, <h3 class=\"lister-item-header\">\n",
              " <span class=\"lister-item-index unbold text-primary\">11.</span>\n",
              " <a href=\"/title/tt0241527/\">Harry Potter and the Sorcerer's Stone</a>\n",
              " <span class=\"lister-item-year text-muted unbold\">(2001)</span>\n",
              " </h3>, <h3 class=\"lister-item-header\">\n",
              " <span class=\"lister-item-index unbold text-primary\">12.</span>\n",
              " <a href=\"/title/tt1877830/\">The Batman</a>\n",
              " <span class=\"lister-item-year text-muted unbold\">(2022)</span>\n",
              " </h3>, <h3 class=\"lister-item-header\">\n",
              " <span class=\"lister-item-index unbold text-primary\">13.</span>\n",
              " <a href=\"/title/tt0111161/\">The Shawshank Redemption</a>\n",
              " <span class=\"lister-item-year text-muted unbold\">(1994)</span>\n",
              " </h3>, <h3 class=\"lister-item-header\">\n",
              " <span class=\"lister-item-index unbold text-primary\">14.</span>\n",
              " <a href=\"/title/tt0068646/\">The Godfather</a>\n",
              " <span class=\"lister-item-year text-muted unbold\">(1972)</span>\n",
              " </h3>, <h3 class=\"lister-item-header\">\n",
              " <span class=\"lister-item-index unbold text-primary\">15.</span>\n",
              " <a href=\"/title/tt7131622/\">Once Upon a Time in Hollywood</a>\n",
              " <span class=\"lister-item-year text-muted unbold\">(2019)</span>\n",
              " </h3>, <h3 class=\"lister-item-header\">\n",
              " <span class=\"lister-item-index unbold text-primary\">16.</span>\n",
              " <a href=\"/title/tt0816692/\">Interstellar</a>\n",
              " <span class=\"lister-item-year text-muted unbold\">(2014)</span>\n",
              " </h3>, <h3 class=\"lister-item-header\">\n",
              " <span class=\"lister-item-index unbold text-primary\">17.</span>\n",
              " <a href=\"/title/tt0499549/\">Avatar</a>\n",
              " <span class=\"lister-item-year text-muted unbold\">(2009)</span>\n",
              " </h3>, <h3 class=\"lister-item-header\">\n",
              " <span class=\"lister-item-index unbold text-primary\">18.</span>\n",
              " <a href=\"/title/tt4154796/\">Avengers: Endgame</a>\n",
              " <span class=\"lister-item-year text-muted unbold\">(2019)</span>\n",
              " </h3>, <h3 class=\"lister-item-header\">\n",
              " <span class=\"lister-item-index unbold text-primary\">19.</span>\n",
              " <a href=\"/title/tt0110912/\">Pulp Fiction</a>\n",
              " <span class=\"lister-item-year text-muted unbold\">(1994)</span>\n",
              " </h3>, <h3 class=\"lister-item-header\">\n",
              " <span class=\"lister-item-index unbold text-primary\">20.</span>\n",
              " <a href=\"/title/tt0120737/\">The Lord of the Rings: The Fellowship of the Ring</a>\n",
              " <span class=\"lister-item-year text-muted unbold\">(2001)</span>\n",
              " </h3>, <h3 class=\"lister-item-header\">\n",
              " <span class=\"lister-item-index unbold text-primary\">21.</span>\n",
              " <a href=\"/title/tt10872600/\">Spider-Man: No Way Home</a>\n",
              " <span class=\"lister-item-year text-muted unbold\">(2021)</span>\n",
              " </h3>, <h3 class=\"lister-item-header\">\n",
              " <span class=\"lister-item-index unbold text-primary\">22.</span>\n",
              " <a href=\"/title/tt8946378/\">Knives Out</a>\n",
              " <span class=\"lister-item-year text-muted unbold\">(2019)</span>\n",
              " </h3>, <h3 class=\"lister-item-header\">\n",
              " <span class=\"lister-item-index unbold text-primary\">23.</span>\n",
              " <a href=\"/title/tt2582802/\">Whiplash</a>\n",
              " <span class=\"lister-item-year text-muted unbold\">(2014)</span>\n",
              " </h3>, <h3 class=\"lister-item-header\">\n",
              " <span class=\"lister-item-index unbold text-primary\">24.</span>\n",
              " <a href=\"/title/tt1160419/\">Dune</a>\n",
              " <span class=\"lister-item-year text-muted unbold\">(2021)</span>\n",
              " </h3>, <h3 class=\"lister-item-header\">\n",
              " <span class=\"lister-item-index unbold text-primary\">25.</span>\n",
              " <a href=\"/title/tt1488589/\">Guillermo del Toro's Pinocchio</a>\n",
              " <span class=\"lister-item-year text-muted unbold\">(2022)</span>\n",
              " </h3>, <h3 class=\"lister-item-header\">\n",
              " <span class=\"lister-item-index unbold text-primary\">26.</span>\n",
              " <a href=\"/title/tt0993846/\">The Wolf of Wall Street</a>\n",
              " <span class=\"lister-item-year text-muted unbold\">(2013)</span>\n",
              " </h3>, <h3 class=\"lister-item-header\">\n",
              " <span class=\"lister-item-index unbold text-primary\">27.</span>\n",
              " <a href=\"/title/tt0468569/\">The Dark Knight</a>\n",
              " <span class=\"lister-item-year text-muted unbold\">(2008)</span>\n",
              " </h3>, <h3 class=\"lister-item-header\">\n",
              " <span class=\"lister-item-index unbold text-primary\">28.</span>\n",
              " <a href=\"/title/tt1375666/\">Inception</a>\n",
              " <span class=\"lister-item-year text-muted unbold\">(2010)</span>\n",
              " </h3>, <h3 class=\"lister-item-header\">\n",
              " <span class=\"lister-item-index unbold text-primary\">29.</span>\n",
              " <a href=\"/title/tt8367814/\">The Gentlemen</a>\n",
              " <span class=\"lister-item-year text-muted unbold\">(2019)</span>\n",
              " </h3>, <h3 class=\"lister-item-header\">\n",
              " <span class=\"lister-item-index unbold text-primary\">30.</span>\n",
              " <a href=\"/title/tt0330373/\">Harry Potter and the Goblet of Fire</a>\n",
              " <span class=\"lister-item-year text-muted unbold\">(2005)</span>\n",
              " </h3>, <h3 class=\"lister-item-header\">\n",
              " <span class=\"lister-item-index unbold text-primary\">31.</span>\n",
              " <a href=\"/title/tt8178634/\">RRR</a>\n",
              " <span class=\"lister-item-year text-muted unbold\">(2022)</span>\n",
              " </h3>, <h3 class=\"lister-item-header\">\n",
              " <span class=\"lister-item-index unbold text-primary\">32.</span>\n",
              " <a href=\"/title/tt0102926/\">The Silence of the Lambs</a>\n",
              " <span class=\"lister-item-year text-muted unbold\">(1991)</span>\n",
              " </h3>, <h3 class=\"lister-item-header\">\n",
              " <span class=\"lister-item-index unbold text-primary\">33.</span>\n",
              " <a href=\"/title/tt0137523/\">Fight Club</a>\n",
              " <span class=\"lister-item-year text-muted unbold\">(1999)</span>\n",
              " </h3>, <h3 class=\"lister-item-header\">\n",
              " <span class=\"lister-item-index unbold text-primary\">34.</span>\n",
              " <a href=\"/title/tt6751668/\">Parasite</a>\n",
              " <span class=\"lister-item-year text-muted unbold\">(2019)</span>\n",
              " </h3>, <h3 class=\"lister-item-header\">\n",
              " <span class=\"lister-item-index unbold text-primary\">35.</span>\n",
              " <a href=\"/title/tt0144084/\">American Psycho</a>\n",
              " <span class=\"lister-item-year text-muted unbold\">(2000)</span>\n",
              " </h3>, <h3 class=\"lister-item-header\">\n",
              " <span class=\"lister-item-index unbold text-primary\">36.</span>\n",
              " <a href=\"/title/tt0109830/\">Forrest Gump</a>\n",
              " <span class=\"lister-item-year text-muted unbold\">(1994)</span>\n",
              " </h3>, <h3 class=\"lister-item-header\">\n",
              " <span class=\"lister-item-index unbold text-primary\">37.</span>\n",
              " <a href=\"/title/tt0119217/\">Good Will Hunting</a>\n",
              " <span class=\"lister-item-year text-muted unbold\">(1997)</span>\n",
              " </h3>, <h3 class=\"lister-item-header\">\n",
              " <span class=\"lister-item-index unbold text-primary\">38.</span>\n",
              " <a href=\"/title/tt7286456/\">Joker</a>\n",
              " <span class=\"lister-item-year text-muted unbold\">(I) (2019)</span>\n",
              " </h3>, <h3 class=\"lister-item-header\">\n",
              " <span class=\"lister-item-index unbold text-primary\">39.</span>\n",
              " <a href=\"/title/tt0088763/\">Back to the Future</a>\n",
              " <span class=\"lister-item-year text-muted unbold\">(1985)</span>\n",
              " </h3>, <h3 class=\"lister-item-header\">\n",
              " <span class=\"lister-item-index unbold text-primary\">40.</span>\n",
              " <a href=\"/title/tt4846340/\">Hidden Figures</a>\n",
              " <span class=\"lister-item-year text-muted unbold\">(2016)</span>\n",
              " </h3>, <h3 class=\"lister-item-header\">\n",
              " <span class=\"lister-item-index unbold text-primary\">41.</span>\n",
              " <a href=\"/title/tt1201607/\">Harry Potter and the Deathly Hallows: Part 2</a>\n",
              " <span class=\"lister-item-year text-muted unbold\">(2011)</span>\n",
              " </h3>, <h3 class=\"lister-item-header\">\n",
              " <span class=\"lister-item-index unbold text-primary\">42.</span>\n",
              " <a href=\"/title/tt0113277/\">Heat</a>\n",
              " <span class=\"lister-item-year text-muted unbold\">(1995)</span>\n",
              " </h3>, <h3 class=\"lister-item-header\">\n",
              " <span class=\"lister-item-index unbold text-primary\">43.</span>\n",
              " <a href=\"/title/tt1856101/\">Blade Runner 2049</a>\n",
              " <span class=\"lister-item-year text-muted unbold\">(2017)</span>\n",
              " </h3>, <h3 class=\"lister-item-header\">\n",
              " <span class=\"lister-item-index unbold text-primary\">44.</span>\n",
              " <a href=\"/title/tt0108052/\">Schindler's List</a>\n",
              " <span class=\"lister-item-year text-muted unbold\">(1993)</span>\n",
              " </h3>, <h3 class=\"lister-item-header\">\n",
              " <span class=\"lister-item-index unbold text-primary\">45.</span>\n",
              " <a href=\"/title/tt0947798/\">Black Swan</a>\n",
              " <span class=\"lister-item-year text-muted unbold\">(2010)</span>\n",
              " </h3>, <h3 class=\"lister-item-header\">\n",
              " <span class=\"lister-item-index unbold text-primary\">46.</span>\n",
              " <a href=\"/title/tt0304141/\">Harry Potter and the Prisoner of Azkaban</a>\n",
              " <span class=\"lister-item-year text-muted unbold\">(2004)</span>\n",
              " </h3>, <h3 class=\"lister-item-header\">\n",
              " <span class=\"lister-item-index unbold text-primary\">47.</span>\n",
              " <a href=\"/title/tt1454029/\">The Help</a>\n",
              " <span class=\"lister-item-year text-muted unbold\">(2011)</span>\n",
              " </h3>, <h3 class=\"lister-item-header\">\n",
              " <span class=\"lister-item-index unbold text-primary\">48.</span>\n",
              " <a href=\"/title/tt0172495/\">Gladiator</a>\n",
              " <span class=\"lister-item-year text-muted unbold\">(2000)</span>\n",
              " </h3>, <h3 class=\"lister-item-header\">\n",
              " <span class=\"lister-item-index unbold text-primary\">49.</span>\n",
              " <a href=\"/title/tt4633694/\">Spider-Man: Into the Spider-Verse</a>\n",
              " <span class=\"lister-item-year text-muted unbold\">(2018)</span>\n",
              " </h3>, <h3 class=\"lister-item-header\">\n",
              " <span class=\"lister-item-index unbold text-primary\">50.</span>\n",
              " <a href=\"/title/tt0361748/\">Inglourious Basterds</a>\n",
              " <span class=\"lister-item-year text-muted unbold\">(2009)</span>\n",
              " </h3>]"
            ]
          },
          "metadata": {},
          "execution_count": 2
        }
      ]
    },
    {
      "cell_type": "code",
      "source": [
        "# Creamos una lista vacía\n",
        "movie_data = []\n",
        "\n",
        "for movie in movies:  # hacemos una estructura de control que itere sobre la lista anterior movies\n",
        "\n",
        "    # nos quedamos con el titulo y lo guardamos\n",
        "    title = movie.find('a').text\n",
        "\n",
        "    # nos quedamos con el año y lo guardamos\n",
        "    year = movie.find('span', class_='lister-item-year text-muted unbold').text\n",
        "\n",
        "    # hacemos un append de ambos valores a nuestra lista inicial\n",
        "    movie_data.append((title, year))\n",
        "\n",
        "# hacemos un print de lo que se salvo en la lista\n",
        "print(movie_data)"
      ],
      "metadata": {
        "colab": {
          "base_uri": "https://localhost:8080/"
        },
        "id": "Ts3iUf1PEBzB",
        "outputId": "a0f0f883-f16d-4a63-c332-0f1402aa56c1"
      },
      "execution_count": null,
      "outputs": [
        {
          "output_type": "stream",
          "name": "stdout",
          "text": [
            "[('The Whale', '(2022)'), ('The Banshees of Inisherin', '(2022)'), ('Avatar: The Way of Water', '(2022)'), ('Everything Everywhere All at Once', '(2022)'), ('All Quiet on the Western Front', '(2022)'), ('Puss in Boots: The Last Wish', '(2022)'), ('The Fabelmans', '(2022)'), ('Top Gun: Maverick', '(2022)'), ('Aftersun', '(II) (2022)'), ('Titanic', '(1997)'), (\"Harry Potter and the Sorcerer's Stone\", '(2001)'), ('The Batman', '(2022)'), ('The Shawshank Redemption', '(1994)'), ('The Godfather', '(1972)'), ('Once Upon a Time in Hollywood', '(2019)'), ('Interstellar', '(2014)'), ('Avatar', '(2009)'), ('Avengers: Endgame', '(2019)'), ('Pulp Fiction', '(1994)'), ('The Lord of the Rings: The Fellowship of the Ring', '(2001)'), ('Spider-Man: No Way Home', '(2021)'), ('Knives Out', '(2019)'), ('Whiplash', '(2014)'), ('Dune', '(2021)'), (\"Guillermo del Toro's Pinocchio\", '(2022)'), ('The Wolf of Wall Street', '(2013)'), ('The Dark Knight', '(2008)'), ('Inception', '(2010)'), ('The Gentlemen', '(2019)'), ('Harry Potter and the Goblet of Fire', '(2005)'), ('RRR', '(2022)'), ('The Silence of the Lambs', '(1991)'), ('Fight Club', '(1999)'), ('Parasite', '(2019)'), ('American Psycho', '(2000)'), ('Forrest Gump', '(1994)'), ('Good Will Hunting', '(1997)'), ('Joker', '(I) (2019)'), ('Back to the Future', '(1985)'), ('Hidden Figures', '(2016)'), ('Harry Potter and the Deathly Hallows: Part 2', '(2011)'), ('Heat', '(1995)'), ('Blade Runner 2049', '(2017)'), (\"Schindler's List\", '(1993)'), ('Black Swan', '(2010)'), ('Harry Potter and the Prisoner of Azkaban', '(2004)'), ('The Help', '(2011)'), ('Gladiator', '(2000)'), ('Spider-Man: Into the Spider-Verse', '(2018)'), ('Inglourious Basterds', '(2009)')]\n"
          ]
        }
      ]
    },
    {
      "cell_type": "markdown",
      "source": [
        "### Scrapping complejo y dataframes"
      ],
      "metadata": {
        "id": "03nRbWm3EjeN"
      }
    },
    {
      "cell_type": "code",
      "source": [
        "# aquí importamos pandas\n",
        "import pandas as pd"
      ],
      "metadata": {
        "id": "oQeGF6JwEnTO"
      },
      "execution_count": null,
      "outputs": []
    },
    {
      "cell_type": "code",
      "source": [
        "# sobreescribimos variables de interes\n",
        "page = requests.get(\"https://www.imdb.com/chart/top\")\n",
        "soup = BeautifulSoup(page.content, 'html.parser')\n",
        "\n",
        "# creamos la lista vacia\n",
        "movies_list = []"
      ],
      "metadata": {
        "id": "pyysHGdxEqlo"
      },
      "execution_count": null,
      "outputs": []
    },
    {
      "cell_type": "code",
      "source": [
        "# encontramos la tabla en la página web\n",
        "tbody = soup.find('tbody', class_='lister-list')\n",
        "trs = tbody.find_all('tr')  # encontramos todas las filas\n",
        "\n",
        "for tr in trs:  # iteramos por sobre todas las filas\n",
        "\n",
        "    # nos quedamos con el título y el año de cada película\n",
        "    title = tr.find('td', class_='titleColumn').a.text\n",
        "    year = tr.find('td', class_='titleColumn').span.text[1:-1]\n",
        "\n",
        "    # guardamos el rating\n",
        "    rating = float(tr.find('td', class_='ratingColumn imdbRating').strong.text)\n",
        "\n",
        "    # hacemos append de cada una de estas variables\n",
        "    movies_list.append((title, year, rating))"
      ],
      "metadata": {
        "id": "AgUcMbj8FBwy"
      },
      "execution_count": null,
      "outputs": []
    },
    {
      "cell_type": "code",
      "source": [
        "# creamos un pandas dataframe de la lista anterior definiendo las columnas\n",
        "movies_df = pd.DataFrame(movies_list, columns=['Title', 'Year', 'Rating'])\n",
        "\n",
        "# incluso lo podemos salvar como un CSV\n",
        "movies_df.to_csv('imdb-movies-dataset.csv', index = False)"
      ],
      "metadata": {
        "id": "5EooIXC_FW7d"
      },
      "execution_count": null,
      "outputs": []
    },
    {
      "cell_type": "code",
      "source": [
        "# podemos echar un vistazo del df que acabamos de crear\n",
        "movies_df.head()"
      ],
      "metadata": {
        "colab": {
          "base_uri": "https://localhost:8080/"
        },
        "id": "j2i4EEdrFcCh",
        "outputId": "7d3b4dbe-6112-4655-b3ee-589119ce9492"
      },
      "execution_count": null,
      "outputs": [
        {
          "output_type": "execute_result",
          "data": {
            "text/plain": [
              "                      Title  Year  Rating\n",
              "0  The Shawshank Redemption  1994     9.2\n",
              "1             The Godfather  1972     9.2\n",
              "2           The Dark Knight  2008     9.0\n",
              "3     The Godfather Part II  1974     9.0\n",
              "4              12 Angry Men  1957     9.0"
            ],
            "text/html": [
              "\n",
              "  <div id=\"df-999cd8b8-7923-48b0-b6d2-943b683bda41\">\n",
              "    <div class=\"colab-df-container\">\n",
              "      <div>\n",
              "<style scoped>\n",
              "    .dataframe tbody tr th:only-of-type {\n",
              "        vertical-align: middle;\n",
              "    }\n",
              "\n",
              "    .dataframe tbody tr th {\n",
              "        vertical-align: top;\n",
              "    }\n",
              "\n",
              "    .dataframe thead th {\n",
              "        text-align: right;\n",
              "    }\n",
              "</style>\n",
              "<table border=\"1\" class=\"dataframe\">\n",
              "  <thead>\n",
              "    <tr style=\"text-align: right;\">\n",
              "      <th></th>\n",
              "      <th>Title</th>\n",
              "      <th>Year</th>\n",
              "      <th>Rating</th>\n",
              "    </tr>\n",
              "  </thead>\n",
              "  <tbody>\n",
              "    <tr>\n",
              "      <th>0</th>\n",
              "      <td>The Shawshank Redemption</td>\n",
              "      <td>1994</td>\n",
              "      <td>9.2</td>\n",
              "    </tr>\n",
              "    <tr>\n",
              "      <th>1</th>\n",
              "      <td>The Godfather</td>\n",
              "      <td>1972</td>\n",
              "      <td>9.2</td>\n",
              "    </tr>\n",
              "    <tr>\n",
              "      <th>2</th>\n",
              "      <td>The Dark Knight</td>\n",
              "      <td>2008</td>\n",
              "      <td>9.0</td>\n",
              "    </tr>\n",
              "    <tr>\n",
              "      <th>3</th>\n",
              "      <td>The Godfather Part II</td>\n",
              "      <td>1974</td>\n",
              "      <td>9.0</td>\n",
              "    </tr>\n",
              "    <tr>\n",
              "      <th>4</th>\n",
              "      <td>12 Angry Men</td>\n",
              "      <td>1957</td>\n",
              "      <td>9.0</td>\n",
              "    </tr>\n",
              "  </tbody>\n",
              "</table>\n",
              "</div>\n",
              "      <button class=\"colab-df-convert\" onclick=\"convertToInteractive('df-999cd8b8-7923-48b0-b6d2-943b683bda41')\"\n",
              "              title=\"Convert this dataframe to an interactive table.\"\n",
              "              style=\"display:none;\">\n",
              "        \n",
              "  <svg xmlns=\"http://www.w3.org/2000/svg\" height=\"24px\"viewBox=\"0 0 24 24\"\n",
              "       width=\"24px\">\n",
              "    <path d=\"M0 0h24v24H0V0z\" fill=\"none\"/>\n",
              "    <path d=\"M18.56 5.44l.94 2.06.94-2.06 2.06-.94-2.06-.94-.94-2.06-.94 2.06-2.06.94zm-11 1L8.5 8.5l.94-2.06 2.06-.94-2.06-.94L8.5 2.5l-.94 2.06-2.06.94zm10 10l.94 2.06.94-2.06 2.06-.94-2.06-.94-.94-2.06-.94 2.06-2.06.94z\"/><path d=\"M17.41 7.96l-1.37-1.37c-.4-.4-.92-.59-1.43-.59-.52 0-1.04.2-1.43.59L10.3 9.45l-7.72 7.72c-.78.78-.78 2.05 0 2.83L4 21.41c.39.39.9.59 1.41.59.51 0 1.02-.2 1.41-.59l7.78-7.78 2.81-2.81c.8-.78.8-2.07 0-2.86zM5.41 20L4 18.59l7.72-7.72 1.47 1.35L5.41 20z\"/>\n",
              "  </svg>\n",
              "      </button>\n",
              "      \n",
              "  <style>\n",
              "    .colab-df-container {\n",
              "      display:flex;\n",
              "      flex-wrap:wrap;\n",
              "      gap: 12px;\n",
              "    }\n",
              "\n",
              "    .colab-df-convert {\n",
              "      background-color: #E8F0FE;\n",
              "      border: none;\n",
              "      border-radius: 50%;\n",
              "      cursor: pointer;\n",
              "      display: none;\n",
              "      fill: #1967D2;\n",
              "      height: 32px;\n",
              "      padding: 0 0 0 0;\n",
              "      width: 32px;\n",
              "    }\n",
              "\n",
              "    .colab-df-convert:hover {\n",
              "      background-color: #E2EBFA;\n",
              "      box-shadow: 0px 1px 2px rgba(60, 64, 67, 0.3), 0px 1px 3px 1px rgba(60, 64, 67, 0.15);\n",
              "      fill: #174EA6;\n",
              "    }\n",
              "\n",
              "    [theme=dark] .colab-df-convert {\n",
              "      background-color: #3B4455;\n",
              "      fill: #D2E3FC;\n",
              "    }\n",
              "\n",
              "    [theme=dark] .colab-df-convert:hover {\n",
              "      background-color: #434B5C;\n",
              "      box-shadow: 0px 1px 3px 1px rgba(0, 0, 0, 0.15);\n",
              "      filter: drop-shadow(0px 1px 2px rgba(0, 0, 0, 0.3));\n",
              "      fill: #FFFFFF;\n",
              "    }\n",
              "  </style>\n",
              "\n",
              "      <script>\n",
              "        const buttonEl =\n",
              "          document.querySelector('#df-999cd8b8-7923-48b0-b6d2-943b683bda41 button.colab-df-convert');\n",
              "        buttonEl.style.display =\n",
              "          google.colab.kernel.accessAllowed ? 'block' : 'none';\n",
              "\n",
              "        async function convertToInteractive(key) {\n",
              "          const element = document.querySelector('#df-999cd8b8-7923-48b0-b6d2-943b683bda41');\n",
              "          const dataTable =\n",
              "            await google.colab.kernel.invokeFunction('convertToInteractive',\n",
              "                                                     [key], {});\n",
              "          if (!dataTable) return;\n",
              "\n",
              "          const docLinkHtml = 'Like what you see? Visit the ' +\n",
              "            '<a target=\"_blank\" href=https://colab.research.google.com/notebooks/data_table.ipynb>data table notebook</a>'\n",
              "            + ' to learn more about interactive tables.';\n",
              "          element.innerHTML = '';\n",
              "          dataTable['output_type'] = 'display_data';\n",
              "          await google.colab.output.renderOutput(dataTable, element);\n",
              "          const docLink = document.createElement('div');\n",
              "          docLink.innerHTML = docLinkHtml;\n",
              "          element.appendChild(docLink);\n",
              "        }\n",
              "      </script>\n",
              "    </div>\n",
              "  </div>\n",
              "  "
            ]
          },
          "metadata": {},
          "execution_count": 8
        }
      ]
    },
    {
      "cell_type": "markdown",
      "source": [
        "### Análisis de texto"
      ],
      "metadata": {
        "id": "68wzG9waIOm5"
      }
    },
    {
      "cell_type": "markdown",
      "source": [
        "**Nube de palabras**"
      ],
      "metadata": {
        "id": "6hyZmlwAOqDi"
      }
    },
    {
      "cell_type": "code",
      "source": [
        "# importamos las librerías\n",
        "import nltk \n",
        "from nltk.tokenize import word_tokenize \n",
        "nltk.download('punkt')\n",
        "from wordcloud import WordCloud\n",
        "import matplotlib.pyplot as plt\n",
        "\n",
        "ed_sheeran =  pd.read_csv('/content/drive/MyDrive/python_intro/EdSheeran.csv', encoding=\"utf-8\")\n",
        "ed_sheeran.head()"
      ],
      "metadata": {
        "colab": {
          "base_uri": "https://localhost:8080/",
          "height": 1000
        },
        "id": "vWQ3xCC1ISLX",
        "outputId": "dc4fe07d-f463-4f58-d923-51db023e6483"
      },
      "execution_count": null,
      "outputs": [
        {
          "output_type": "stream",
          "name": "stderr",
          "text": [
            "[nltk_data] Downloading package punkt to /root/nltk_data...\n",
            "[nltk_data]   Package punkt is already up-to-date!\n"
          ]
        },
        {
          "output_type": "execute_result",
          "data": {
            "text/plain": [
              "   Unnamed: 0      Artist                Title       Album    Year  \\\n",
              "0           0  Ed Sheeran         Shape of You  ÷ (Divide)  2017.0   \n",
              "1           1  Ed Sheeran              Perfect  ÷ (Divide)  2017.0   \n",
              "2           2  Ed Sheeran   Castle on the Hill  ÷ (Divide)  2017.0   \n",
              "3           3  Ed Sheeran              Happier  ÷ (Divide)  2017.0   \n",
              "4           4  Ed Sheeran  Supermarket Flowers  ÷ (Divide)  2017.0   \n",
              "\n",
              "         Date  \\\n",
              "0  2017-01-06   \n",
              "1  2017-03-03   \n",
              "2  2017-01-06   \n",
              "3  2017-03-03   \n",
              "4  2017-03-03   \n",
              "\n",
              "                                                                                                                                                                                                                                                                                                                                                                                                                                                                                                                                                                                                                                                                                                                                                                                                                                                                                                                                                                                                                                                                                                                                                                                                                                                                                                                                                                                                                                                                                                                                                                                                                                                                                                                                                                                                                                                                                                                                                                                                                                                                                                                                                                                                                                                                                                                                                                                                                                                                                                                                                                                                                                                                                                                                                                                                                                                                                                                                                                                                                                                                                             Lyric  \n",
              "0  the club isn't the best place to find a lover so the bar is where i go me and my friends at the table doing shots drinking fast and then we talk slow and you come over and start up a conversation with just me and trust me i'll give it a chance now take my hand stop put van the man on the jukebox and then we start to dance and now i'm singing like  pre girl you know i want your love your love was handmade for somebody like me come on now follow my lead i may be crazy don't mind me say boy let's not talk too much grab on my waist and put that body on me come on now follow my lead come come on now follow my lead   i'm in love with the shape of you we push and pull like a magnet do although my heart is falling too i'm in love with your body and last night you were in my room and now my bed sheets smell like you every day discovering something brand new i'm in love with your body ohiohiohiohi i'm in love with your body ohiohiohiohi i'm in love with your body ohiohiohiohi i'm in love with your body every day discovering something brand new i'm in love with the shape of you   one week in we let the story begin we're going out on our first date you and me are thrifty so go all you can eat fill up your bag and i fill up a plate we talk for hours and hours about the sweet and the sour and how your family is doing okay leave and get in a taxi then kiss in the backseat tell the driver make the radio play and i'm singing like  pre girl you know i want your love your love was handmade for somebody like me come on now follow my lead i may be crazy don't mind me say boy let's not talk too much grab on my waist and put that body on me come on now follow my lead come come on now follow my lead   i'm in love with the shape of you we push and pull like a magnet do although my heart is falling too i'm in love with your body and last night you were in my room and now my bed sheets smell like you every day discovering something brand new i'm in love with your body ohiohiohiohi i'm in love with your body ohiohiohiohi i'm in love with your body ohiohiohiohi i'm in love with your body every day discovering something brand new i'm in love with the shape of you   come on be my baby come on come on be my baby come on come on be my baby come on come on be my baby come on come on be my baby come on come on be my baby come on come on be my baby come on come on be my baby come on   i'm in love with the shape of you we push and pull like a magnet do although my heart is falling too i'm in love with your body last night you were in my room and now my bed sheets smell like you every day discovering something brand new i'm in love with your body come on be my baby come on come on be my baby come on i'm in love with your body come on be my baby come on come on be my baby come on i'm in love with your body come on be my baby come on come on be my baby come on i'm in love with your body every day discovering something brand new i'm in love with the shape of you  \n",
              "1                                                                                                                                                                                                                                                                                                                                                                                                                                                                                                                                                                                                                                                                                                                                                                                                                                                                                                                                                                                                                                                                                                                                                                                                                                                                                                                                                                                                                                                                                                                                                                                                           i found a love for me oh darling just dive right in and follow my lead well i found a girl beautiful and sweet oh i never knew you were the someone waiting for me 'cause we were just kids when we fell in love not knowing what it was i will not give you up this time but darling just kiss me slow your heart is all i own and in your eyes you're holding mine   baby i'm dancing in the dark with you between my arms barefoot on the grass listening to our favourite song when you said you looked a mess i whispered underneath my breath but you heard it darling you look perfect tonight   well i found a woman stronger than anyone i know she shares my dreams i hope that someday i'll share her home i found a love to carry more than just my secrets to carry love to carry children of our own we are still kids but we're so in love fighting against all odds i know we'll be alright this time darling just hold my hand be my girl i'll be your man i see my future in your eyes    baby i'm dancing in the dark with you between my arms barefoot on the grass listening to our favorite song when i saw you in that dress looking so beautiful i don't deserve this darling you look perfect tonight      baby i'm dancing in the dark with you between my arms barefoot on the grass listening to our favorite song i have faith in what i see now i know i have met an angel in person and she looks perfect i don't deserve this you look perfect tonight  \n",
              "2                                                                                                                                                                                                                                                                                                                                                                                                                                                                                                                                                                                                                                                                                                                                                                                                                                                                                                                                                                                                                                                                                                                                                                                                                                                                                                                                 when i was six years old i broke my leg i was running from my brother and his friends and tasted the sweet perfume of the mountain grass i rolled down i was younger then take me back to when i  pre found my heart and broke it here made friends and lost them through the years and i've not seen the roaring fields in so long i know i've grown but i can't wait to go home   i'm on my way driving at 90 down those country lanes singing to tiny dancer and i miss the way you make me feel and it's real we watched the sunset over the castle on the hill   fifteen years old and smoking handrolled cigarettes running from the law through the backfields and getting drunk with my friends had my first kiss on a friday night i don't reckon that i did it right but i was younger then take me back to when  pre we found weekend jobs when we got paid we'd buy cheap spirits and drink them straight me and my friends have not thrown up in so long oh how we've grown but i can't wait to go home   i'm on my way driving at 90 down those country lanes singing to tiny dancer and i miss the way you make me feel and it's real we watched the sunset over the castle on the hill over the castle on the hill over the castle on the hill   one friend left to sell clothes one works down by the coast one had two kids but lives alone one's brother overdosed one's already on his second wife one's just barely getting by but these people raised me and i can't wait to go home   and i'm on my way i still remember these old country lanes when we did not know the answers and i miss the way you make me feel it's real we watched the sunset over the castle on the hill over the castle on the hill over the castle on the hill  \n",
              "3                                                                                                                                                                                                                                                                                                                                                                                                                                                                                                                                                                                                                                                                                                                                                                                                                                                                                                                                                                                                                                                                                                                                                                                                                                                                                                                                                                                                                                                                                                                                                                                                                                                                                                                                                                                                                                                     walking down 9th and park i saw you in another's arm only a month we've been apart you look happier saw you walk inside a bar he said something to make you laugh i saw that both your smiles were twice as wide as ours yeah you look happier you do  prechrous ain't nobody hurt you like i hurt you but ain't nobody love you like i do promise that i will not take it personal baby if you're moving on with someone new   'cause baby you look happier you do my friends told me one day i'll feel it too and until then i'll smile to hide the truth but i know i was happier with you   sat in the corner of the room everything's reminding me of you nursing an empty bottle and telling myself you're happier aren't you  pre  oh ain't nobody hurt you like i hurt you but ain't nobody need you like i do i know that there's others that deserve you but my darling i am still in love with you    but i guess you look happier you do my friends told me one day ill feel it too i could try to smile to hide the truth but i know i was happier with you   cause baby you look happier you do i knew one day youd fall for someone new but if he breaks your heart like lovers do just know that ill be waiting here for you  \n",
              "4                                                                                                                                                                                                                                                                                                                                                                                                                                                                                                                                                                                                                                                                                                                                                                                                                                                                                                                                                                                                                                                                                                                                                                                                                                                                                                                                                                                                                                                                                                                                                                                                                                                                                                               i took the supermarket flowers from the windowsill i threw the day old tea from the cup packed up the photo album matthew had made memories of a life that's been loved took the get well soon cards and stuffed animals poured the old ginger beer down the sink dad always told me don't you cry when you're down but mum there's a tear every time that i blink  pre oh i'm in pieces it's tearing me up but i know a heart that's broke is a heart that's been loved   so i'll sing hallelujah you were an angel in the shape of my mum when i fell down you'd be there holding me up spread your wings as you go when god takes you back he'll say hallelujah you're home   i fluffed the pillows made the beds stacked the chairs up folded your nightgowns neatly in a case john says he'd drive then put his hand on my cheek and wiped a tear from the side of my face  pre i hope that i see the world as you did 'cause i know a life with love is a life that's been lived   so i'll sing hallelujah you were an angel in the shape of my mum when i fell down you'd be there holding me up spread your wings as you go when god takes you back he'll say hallelujah you're home   hallelujah you were an angel in the shape of my mum you got to see the person i have become spread your wings and i know that when god took you back he said hallelujah you're home  "
            ],
            "text/html": [
              "\n",
              "  <div id=\"df-0ab03974-0135-4c1c-be3d-9c42d49fbe1a\">\n",
              "    <div class=\"colab-df-container\">\n",
              "      <div>\n",
              "<style scoped>\n",
              "    .dataframe tbody tr th:only-of-type {\n",
              "        vertical-align: middle;\n",
              "    }\n",
              "\n",
              "    .dataframe tbody tr th {\n",
              "        vertical-align: top;\n",
              "    }\n",
              "\n",
              "    .dataframe thead th {\n",
              "        text-align: right;\n",
              "    }\n",
              "</style>\n",
              "<table border=\"1\" class=\"dataframe\">\n",
              "  <thead>\n",
              "    <tr style=\"text-align: right;\">\n",
              "      <th></th>\n",
              "      <th>Unnamed: 0</th>\n",
              "      <th>Artist</th>\n",
              "      <th>Title</th>\n",
              "      <th>Album</th>\n",
              "      <th>Year</th>\n",
              "      <th>Date</th>\n",
              "      <th>Lyric</th>\n",
              "    </tr>\n",
              "  </thead>\n",
              "  <tbody>\n",
              "    <tr>\n",
              "      <th>0</th>\n",
              "      <td>0</td>\n",
              "      <td>Ed Sheeran</td>\n",
              "      <td>Shape of You</td>\n",
              "      <td>÷ (Divide)</td>\n",
              "      <td>2017.0</td>\n",
              "      <td>2017-01-06</td>\n",
              "      <td>the club isn't the best place to find a lover so the bar is where i go me and my friends at the table doing shots drinking fast and then we talk slow and you come over and start up a conversation with just me and trust me i'll give it a chance now take my hand stop put van the man on the jukebox and then we start to dance and now i'm singing like  pre girl you know i want your love your love was handmade for somebody like me come on now follow my lead i may be crazy don't mind me say boy let's not talk too much grab on my waist and put that body on me come on now follow my lead come come on now follow my lead   i'm in love with the shape of you we push and pull like a magnet do although my heart is falling too i'm in love with your body and last night you were in my room and now my bed sheets smell like you every day discovering something brand new i'm in love with your body ohiohiohiohi i'm in love with your body ohiohiohiohi i'm in love with your body ohiohiohiohi i'm in love with your body every day discovering something brand new i'm in love with the shape of you   one week in we let the story begin we're going out on our first date you and me are thrifty so go all you can eat fill up your bag and i fill up a plate we talk for hours and hours about the sweet and the sour and how your family is doing okay leave and get in a taxi then kiss in the backseat tell the driver make the radio play and i'm singing like  pre girl you know i want your love your love was handmade for somebody like me come on now follow my lead i may be crazy don't mind me say boy let's not talk too much grab on my waist and put that body on me come on now follow my lead come come on now follow my lead   i'm in love with the shape of you we push and pull like a magnet do although my heart is falling too i'm in love with your body and last night you were in my room and now my bed sheets smell like you every day discovering something brand new i'm in love with your body ohiohiohiohi i'm in love with your body ohiohiohiohi i'm in love with your body ohiohiohiohi i'm in love with your body every day discovering something brand new i'm in love with the shape of you   come on be my baby come on come on be my baby come on come on be my baby come on come on be my baby come on come on be my baby come on come on be my baby come on come on be my baby come on come on be my baby come on   i'm in love with the shape of you we push and pull like a magnet do although my heart is falling too i'm in love with your body last night you were in my room and now my bed sheets smell like you every day discovering something brand new i'm in love with your body come on be my baby come on come on be my baby come on i'm in love with your body come on be my baby come on come on be my baby come on i'm in love with your body come on be my baby come on come on be my baby come on i'm in love with your body every day discovering something brand new i'm in love with the shape of you</td>\n",
              "    </tr>\n",
              "    <tr>\n",
              "      <th>1</th>\n",
              "      <td>1</td>\n",
              "      <td>Ed Sheeran</td>\n",
              "      <td>Perfect</td>\n",
              "      <td>÷ (Divide)</td>\n",
              "      <td>2017.0</td>\n",
              "      <td>2017-03-03</td>\n",
              "      <td>i found a love for me oh darling just dive right in and follow my lead well i found a girl beautiful and sweet oh i never knew you were the someone waiting for me 'cause we were just kids when we fell in love not knowing what it was i will not give you up this time but darling just kiss me slow your heart is all i own and in your eyes you're holding mine   baby i'm dancing in the dark with you between my arms barefoot on the grass listening to our favourite song when you said you looked a mess i whispered underneath my breath but you heard it darling you look perfect tonight   well i found a woman stronger than anyone i know she shares my dreams i hope that someday i'll share her home i found a love to carry more than just my secrets to carry love to carry children of our own we are still kids but we're so in love fighting against all odds i know we'll be alright this time darling just hold my hand be my girl i'll be your man i see my future in your eyes    baby i'm dancing in the dark with you between my arms barefoot on the grass listening to our favorite song when i saw you in that dress looking so beautiful i don't deserve this darling you look perfect tonight      baby i'm dancing in the dark with you between my arms barefoot on the grass listening to our favorite song i have faith in what i see now i know i have met an angel in person and she looks perfect i don't deserve this you look perfect tonight</td>\n",
              "    </tr>\n",
              "    <tr>\n",
              "      <th>2</th>\n",
              "      <td>2</td>\n",
              "      <td>Ed Sheeran</td>\n",
              "      <td>Castle on the Hill</td>\n",
              "      <td>÷ (Divide)</td>\n",
              "      <td>2017.0</td>\n",
              "      <td>2017-01-06</td>\n",
              "      <td>when i was six years old i broke my leg i was running from my brother and his friends and tasted the sweet perfume of the mountain grass i rolled down i was younger then take me back to when i  pre found my heart and broke it here made friends and lost them through the years and i've not seen the roaring fields in so long i know i've grown but i can't wait to go home   i'm on my way driving at 90 down those country lanes singing to tiny dancer and i miss the way you make me feel and it's real we watched the sunset over the castle on the hill   fifteen years old and smoking handrolled cigarettes running from the law through the backfields and getting drunk with my friends had my first kiss on a friday night i don't reckon that i did it right but i was younger then take me back to when  pre we found weekend jobs when we got paid we'd buy cheap spirits and drink them straight me and my friends have not thrown up in so long oh how we've grown but i can't wait to go home   i'm on my way driving at 90 down those country lanes singing to tiny dancer and i miss the way you make me feel and it's real we watched the sunset over the castle on the hill over the castle on the hill over the castle on the hill   one friend left to sell clothes one works down by the coast one had two kids but lives alone one's brother overdosed one's already on his second wife one's just barely getting by but these people raised me and i can't wait to go home   and i'm on my way i still remember these old country lanes when we did not know the answers and i miss the way you make me feel it's real we watched the sunset over the castle on the hill over the castle on the hill over the castle on the hill</td>\n",
              "    </tr>\n",
              "    <tr>\n",
              "      <th>3</th>\n",
              "      <td>3</td>\n",
              "      <td>Ed Sheeran</td>\n",
              "      <td>Happier</td>\n",
              "      <td>÷ (Divide)</td>\n",
              "      <td>2017.0</td>\n",
              "      <td>2017-03-03</td>\n",
              "      <td>walking down 9th and park i saw you in another's arm only a month we've been apart you look happier saw you walk inside a bar he said something to make you laugh i saw that both your smiles were twice as wide as ours yeah you look happier you do  prechrous ain't nobody hurt you like i hurt you but ain't nobody love you like i do promise that i will not take it personal baby if you're moving on with someone new   'cause baby you look happier you do my friends told me one day i'll feel it too and until then i'll smile to hide the truth but i know i was happier with you   sat in the corner of the room everything's reminding me of you nursing an empty bottle and telling myself you're happier aren't you  pre  oh ain't nobody hurt you like i hurt you but ain't nobody need you like i do i know that there's others that deserve you but my darling i am still in love with you    but i guess you look happier you do my friends told me one day ill feel it too i could try to smile to hide the truth but i know i was happier with you   cause baby you look happier you do i knew one day youd fall for someone new but if he breaks your heart like lovers do just know that ill be waiting here for you</td>\n",
              "    </tr>\n",
              "    <tr>\n",
              "      <th>4</th>\n",
              "      <td>4</td>\n",
              "      <td>Ed Sheeran</td>\n",
              "      <td>Supermarket Flowers</td>\n",
              "      <td>÷ (Divide)</td>\n",
              "      <td>2017.0</td>\n",
              "      <td>2017-03-03</td>\n",
              "      <td>i took the supermarket flowers from the windowsill i threw the day old tea from the cup packed up the photo album matthew had made memories of a life that's been loved took the get well soon cards and stuffed animals poured the old ginger beer down the sink dad always told me don't you cry when you're down but mum there's a tear every time that i blink  pre oh i'm in pieces it's tearing me up but i know a heart that's broke is a heart that's been loved   so i'll sing hallelujah you were an angel in the shape of my mum when i fell down you'd be there holding me up spread your wings as you go when god takes you back he'll say hallelujah you're home   i fluffed the pillows made the beds stacked the chairs up folded your nightgowns neatly in a case john says he'd drive then put his hand on my cheek and wiped a tear from the side of my face  pre i hope that i see the world as you did 'cause i know a life with love is a life that's been lived   so i'll sing hallelujah you were an angel in the shape of my mum when i fell down you'd be there holding me up spread your wings as you go when god takes you back he'll say hallelujah you're home   hallelujah you were an angel in the shape of my mum you got to see the person i have become spread your wings and i know that when god took you back he said hallelujah you're home</td>\n",
              "    </tr>\n",
              "  </tbody>\n",
              "</table>\n",
              "</div>\n",
              "      <button class=\"colab-df-convert\" onclick=\"convertToInteractive('df-0ab03974-0135-4c1c-be3d-9c42d49fbe1a')\"\n",
              "              title=\"Convert this dataframe to an interactive table.\"\n",
              "              style=\"display:none;\">\n",
              "        \n",
              "  <svg xmlns=\"http://www.w3.org/2000/svg\" height=\"24px\"viewBox=\"0 0 24 24\"\n",
              "       width=\"24px\">\n",
              "    <path d=\"M0 0h24v24H0V0z\" fill=\"none\"/>\n",
              "    <path d=\"M18.56 5.44l.94 2.06.94-2.06 2.06-.94-2.06-.94-.94-2.06-.94 2.06-2.06.94zm-11 1L8.5 8.5l.94-2.06 2.06-.94-2.06-.94L8.5 2.5l-.94 2.06-2.06.94zm10 10l.94 2.06.94-2.06 2.06-.94-2.06-.94-.94-2.06-.94 2.06-2.06.94z\"/><path d=\"M17.41 7.96l-1.37-1.37c-.4-.4-.92-.59-1.43-.59-.52 0-1.04.2-1.43.59L10.3 9.45l-7.72 7.72c-.78.78-.78 2.05 0 2.83L4 21.41c.39.39.9.59 1.41.59.51 0 1.02-.2 1.41-.59l7.78-7.78 2.81-2.81c.8-.78.8-2.07 0-2.86zM5.41 20L4 18.59l7.72-7.72 1.47 1.35L5.41 20z\"/>\n",
              "  </svg>\n",
              "      </button>\n",
              "      \n",
              "  <style>\n",
              "    .colab-df-container {\n",
              "      display:flex;\n",
              "      flex-wrap:wrap;\n",
              "      gap: 12px;\n",
              "    }\n",
              "\n",
              "    .colab-df-convert {\n",
              "      background-color: #E8F0FE;\n",
              "      border: none;\n",
              "      border-radius: 50%;\n",
              "      cursor: pointer;\n",
              "      display: none;\n",
              "      fill: #1967D2;\n",
              "      height: 32px;\n",
              "      padding: 0 0 0 0;\n",
              "      width: 32px;\n",
              "    }\n",
              "\n",
              "    .colab-df-convert:hover {\n",
              "      background-color: #E2EBFA;\n",
              "      box-shadow: 0px 1px 2px rgba(60, 64, 67, 0.3), 0px 1px 3px 1px rgba(60, 64, 67, 0.15);\n",
              "      fill: #174EA6;\n",
              "    }\n",
              "\n",
              "    [theme=dark] .colab-df-convert {\n",
              "      background-color: #3B4455;\n",
              "      fill: #D2E3FC;\n",
              "    }\n",
              "\n",
              "    [theme=dark] .colab-df-convert:hover {\n",
              "      background-color: #434B5C;\n",
              "      box-shadow: 0px 1px 3px 1px rgba(0, 0, 0, 0.15);\n",
              "      filter: drop-shadow(0px 1px 2px rgba(0, 0, 0, 0.3));\n",
              "      fill: #FFFFFF;\n",
              "    }\n",
              "  </style>\n",
              "\n",
              "      <script>\n",
              "        const buttonEl =\n",
              "          document.querySelector('#df-0ab03974-0135-4c1c-be3d-9c42d49fbe1a button.colab-df-convert');\n",
              "        buttonEl.style.display =\n",
              "          google.colab.kernel.accessAllowed ? 'block' : 'none';\n",
              "\n",
              "        async function convertToInteractive(key) {\n",
              "          const element = document.querySelector('#df-0ab03974-0135-4c1c-be3d-9c42d49fbe1a');\n",
              "          const dataTable =\n",
              "            await google.colab.kernel.invokeFunction('convertToInteractive',\n",
              "                                                     [key], {});\n",
              "          if (!dataTable) return;\n",
              "\n",
              "          const docLinkHtml = 'Like what you see? Visit the ' +\n",
              "            '<a target=\"_blank\" href=https://colab.research.google.com/notebooks/data_table.ipynb>data table notebook</a>'\n",
              "            + ' to learn more about interactive tables.';\n",
              "          element.innerHTML = '';\n",
              "          dataTable['output_type'] = 'display_data';\n",
              "          await google.colab.output.renderOutput(dataTable, element);\n",
              "          const docLink = document.createElement('div');\n",
              "          docLink.innerHTML = docLinkHtml;\n",
              "          element.appendChild(docLink);\n",
              "        }\n",
              "      </script>\n",
              "    </div>\n",
              "  </div>\n",
              "  "
            ]
          },
          "metadata": {},
          "execution_count": 69
        }
      ]
    },
    {
      "cell_type": "code",
      "source": [
        "# Vamos a tomar la letra de la canción Shape of You\n",
        "pd.set_option('display.max_colwidth', None)\n",
        "shape_of_you = ed_sheeran[ed_sheeran['Title'] == 'Shape of You']\n",
        "lyrics = shape_of_you['Lyric'].to_string()\n",
        "type(lyrics)"
      ],
      "metadata": {
        "colab": {
          "base_uri": "https://localhost:8080/"
        },
        "id": "QAevrVO6I6xP",
        "outputId": "38ba1241-b9aa-4b86-d61e-e7fe897ab8d5"
      },
      "execution_count": null,
      "outputs": [
        {
          "output_type": "execute_result",
          "data": {
            "text/plain": [
              "str"
            ]
          },
          "metadata": {},
          "execution_count": 72
        }
      ]
    },
    {
      "cell_type": "code",
      "source": [
        "# Tokenizing la letra por palabra\n",
        "tokens = word_tokenize(lyrics)\n",
        "\n",
        "# Creamos una distrbución simple de las palabras\n",
        "freq_dist = nltk.FreqDist(tokens) \n",
        "  \n",
        "# Mostramos las 5 palabras más frecuentes en la letra\n",
        "print(freq_dist.most_common(5))"
      ],
      "metadata": {
        "colab": {
          "base_uri": "https://localhost:8080/"
        },
        "id": "WNj8U7jOJG7P",
        "outputId": "a9cb0355-b111-4fbf-888e-da2557c32879"
      },
      "execution_count": null,
      "outputs": [
        {
          "output_type": "stream",
          "name": "stdout",
          "text": [
            "[('on', 40), ('come', 37), ('my', 33), ('i', 30), ('in', 27)]\n"
          ]
        }
      ]
    },
    {
      "cell_type": "markdown",
      "source": [
        "Como notamos la letra contiene un montón de conectores que se deberían de eliminar."
      ],
      "metadata": {
        "id": "AUEWghC3NFbI"
      }
    },
    {
      "cell_type": "code",
      "source": [
        "from nltk.corpus import stopwords\n",
        "import string\n",
        "nltk.download('stopwords')\n",
        "\n",
        "# removemos puntuación\n",
        "remove_punctuation = [char for char in lyrics if char not in string.punctuation] \n",
        "\n",
        "# agregamos de nuevo a la lista sin puntuación\n",
        "remove_punctuation = ''.join(remove_punctuation) \n",
        "\n",
        "# Removemos las conocidas 'stopwords'\n",
        "stop_words = set(stopwords.words('english')) \n",
        "\n",
        "# hacemos la tokenización nuevamente\n",
        "word_tokens = word_tokenize(remove_punctuation) \n",
        "\n",
        "# realizamos un condicional como list comprehension\n",
        "filtered_sentence = [w for w in word_tokens if not w in stop_words]"
      ],
      "metadata": {
        "colab": {
          "base_uri": "https://localhost:8080/"
        },
        "id": "z1XWOwV1NKB6",
        "outputId": "f13be4a5-1de7-4021-dd9c-ae7153d8afc8"
      },
      "execution_count": null,
      "outputs": [
        {
          "output_type": "stream",
          "name": "stderr",
          "text": [
            "[nltk_data] Downloading package stopwords to /root/nltk_data...\n",
            "[nltk_data]   Package stopwords is already up-to-date!\n"
          ]
        }
      ]
    },
    {
      "cell_type": "code",
      "source": [
        "print(len(tokens))\n",
        "print(len(filtered_sentence)) # redujimos hasta la mitad las palabras\n",
        "filtered_sentence"
      ],
      "metadata": {
        "colab": {
          "base_uri": "https://localhost:8080/"
        },
        "id": "PmdO_ZUPNiC-",
        "outputId": "d1fb09e6-16c5-4999-eac7-67faf17e6523"
      },
      "execution_count": null,
      "outputs": [
        {
          "output_type": "stream",
          "name": "stdout",
          "text": [
            "669\n",
            "323\n"
          ]
        },
        {
          "output_type": "execute_result",
          "data": {
            "text/plain": [
              "['0',\n",
              " 'club',\n",
              " 'isnt',\n",
              " 'best',\n",
              " 'place',\n",
              " 'find',\n",
              " 'lover',\n",
              " 'bar',\n",
              " 'go',\n",
              " 'friends',\n",
              " 'table',\n",
              " 'shots',\n",
              " 'drinking',\n",
              " 'fast',\n",
              " 'talk',\n",
              " 'slow',\n",
              " 'come',\n",
              " 'start',\n",
              " 'conversation',\n",
              " 'trust',\n",
              " 'ill',\n",
              " 'give',\n",
              " 'chance',\n",
              " 'take',\n",
              " 'hand',\n",
              " 'stop',\n",
              " 'put',\n",
              " 'van',\n",
              " 'man',\n",
              " 'jukebox',\n",
              " 'start',\n",
              " 'dance',\n",
              " 'im',\n",
              " 'singing',\n",
              " 'like',\n",
              " 'pre',\n",
              " 'girl',\n",
              " 'know',\n",
              " 'want',\n",
              " 'love',\n",
              " 'love',\n",
              " 'handmade',\n",
              " 'somebody',\n",
              " 'like',\n",
              " 'come',\n",
              " 'follow',\n",
              " 'lead',\n",
              " 'may',\n",
              " 'crazy',\n",
              " 'dont',\n",
              " 'mind',\n",
              " 'say',\n",
              " 'boy',\n",
              " 'lets',\n",
              " 'talk',\n",
              " 'much',\n",
              " 'grab',\n",
              " 'waist',\n",
              " 'put',\n",
              " 'body',\n",
              " 'come',\n",
              " 'follow',\n",
              " 'lead',\n",
              " 'come',\n",
              " 'come',\n",
              " 'follow',\n",
              " 'lead',\n",
              " 'im',\n",
              " 'love',\n",
              " 'shape',\n",
              " 'push',\n",
              " 'pull',\n",
              " 'like',\n",
              " 'magnet',\n",
              " 'although',\n",
              " 'heart',\n",
              " 'falling',\n",
              " 'im',\n",
              " 'love',\n",
              " 'body',\n",
              " 'last',\n",
              " 'night',\n",
              " 'room',\n",
              " 'bed',\n",
              " 'sheets',\n",
              " 'smell',\n",
              " 'like',\n",
              " 'every',\n",
              " 'day',\n",
              " 'discovering',\n",
              " 'something',\n",
              " 'brand',\n",
              " 'new',\n",
              " 'im',\n",
              " 'love',\n",
              " 'body',\n",
              " 'ohiohiohiohi',\n",
              " 'im',\n",
              " 'love',\n",
              " 'body',\n",
              " 'ohiohiohiohi',\n",
              " 'im',\n",
              " 'love',\n",
              " 'body',\n",
              " 'ohiohiohiohi',\n",
              " 'im',\n",
              " 'love',\n",
              " 'body',\n",
              " 'every',\n",
              " 'day',\n",
              " 'discovering',\n",
              " 'something',\n",
              " 'brand',\n",
              " 'new',\n",
              " 'im',\n",
              " 'love',\n",
              " 'shape',\n",
              " 'one',\n",
              " 'week',\n",
              " 'let',\n",
              " 'story',\n",
              " 'begin',\n",
              " 'going',\n",
              " 'first',\n",
              " 'date',\n",
              " 'thrifty',\n",
              " 'go',\n",
              " 'eat',\n",
              " 'fill',\n",
              " 'bag',\n",
              " 'fill',\n",
              " 'plate',\n",
              " 'talk',\n",
              " 'hours',\n",
              " 'hours',\n",
              " 'sweet',\n",
              " 'sour',\n",
              " 'family',\n",
              " 'okay',\n",
              " 'leave',\n",
              " 'get',\n",
              " 'taxi',\n",
              " 'kiss',\n",
              " 'backseat',\n",
              " 'tell',\n",
              " 'driver',\n",
              " 'make',\n",
              " 'radio',\n",
              " 'play',\n",
              " 'im',\n",
              " 'singing',\n",
              " 'like',\n",
              " 'pre',\n",
              " 'girl',\n",
              " 'know',\n",
              " 'want',\n",
              " 'love',\n",
              " 'love',\n",
              " 'handmade',\n",
              " 'somebody',\n",
              " 'like',\n",
              " 'come',\n",
              " 'follow',\n",
              " 'lead',\n",
              " 'may',\n",
              " 'crazy',\n",
              " 'dont',\n",
              " 'mind',\n",
              " 'say',\n",
              " 'boy',\n",
              " 'lets',\n",
              " 'talk',\n",
              " 'much',\n",
              " 'grab',\n",
              " 'waist',\n",
              " 'put',\n",
              " 'body',\n",
              " 'come',\n",
              " 'follow',\n",
              " 'lead',\n",
              " 'come',\n",
              " 'come',\n",
              " 'follow',\n",
              " 'lead',\n",
              " 'im',\n",
              " 'love',\n",
              " 'shape',\n",
              " 'push',\n",
              " 'pull',\n",
              " 'like',\n",
              " 'magnet',\n",
              " 'although',\n",
              " 'heart',\n",
              " 'falling',\n",
              " 'im',\n",
              " 'love',\n",
              " 'body',\n",
              " 'last',\n",
              " 'night',\n",
              " 'room',\n",
              " 'bed',\n",
              " 'sheets',\n",
              " 'smell',\n",
              " 'like',\n",
              " 'every',\n",
              " 'day',\n",
              " 'discovering',\n",
              " 'something',\n",
              " 'brand',\n",
              " 'new',\n",
              " 'im',\n",
              " 'love',\n",
              " 'body',\n",
              " 'ohiohiohiohi',\n",
              " 'im',\n",
              " 'love',\n",
              " 'body',\n",
              " 'ohiohiohiohi',\n",
              " 'im',\n",
              " 'love',\n",
              " 'body',\n",
              " 'ohiohiohiohi',\n",
              " 'im',\n",
              " 'love',\n",
              " 'body',\n",
              " 'every',\n",
              " 'day',\n",
              " 'discovering',\n",
              " 'something',\n",
              " 'brand',\n",
              " 'new',\n",
              " 'im',\n",
              " 'love',\n",
              " 'shape',\n",
              " 'come',\n",
              " 'baby',\n",
              " 'come',\n",
              " 'come',\n",
              " 'baby',\n",
              " 'come',\n",
              " 'come',\n",
              " 'baby',\n",
              " 'come',\n",
              " 'come',\n",
              " 'baby',\n",
              " 'come',\n",
              " 'come',\n",
              " 'baby',\n",
              " 'come',\n",
              " 'come',\n",
              " 'baby',\n",
              " 'come',\n",
              " 'come',\n",
              " 'baby',\n",
              " 'come',\n",
              " 'come',\n",
              " 'baby',\n",
              " 'come',\n",
              " 'im',\n",
              " 'love',\n",
              " 'shape',\n",
              " 'push',\n",
              " 'pull',\n",
              " 'like',\n",
              " 'magnet',\n",
              " 'although',\n",
              " 'heart',\n",
              " 'falling',\n",
              " 'im',\n",
              " 'love',\n",
              " 'body',\n",
              " 'last',\n",
              " 'night',\n",
              " 'room',\n",
              " 'bed',\n",
              " 'sheets',\n",
              " 'smell',\n",
              " 'like',\n",
              " 'every',\n",
              " 'day',\n",
              " 'discovering',\n",
              " 'something',\n",
              " 'brand',\n",
              " 'new',\n",
              " 'im',\n",
              " 'love',\n",
              " 'body',\n",
              " 'come',\n",
              " 'baby',\n",
              " 'come',\n",
              " 'come',\n",
              " 'baby',\n",
              " 'come',\n",
              " 'im',\n",
              " 'love',\n",
              " 'body',\n",
              " 'come',\n",
              " 'baby',\n",
              " 'come',\n",
              " 'come',\n",
              " 'baby',\n",
              " 'come',\n",
              " 'im',\n",
              " 'love',\n",
              " 'body',\n",
              " 'come',\n",
              " 'baby',\n",
              " 'come',\n",
              " 'come',\n",
              " 'baby',\n",
              " 'come',\n",
              " 'im',\n",
              " 'love',\n",
              " 'body',\n",
              " 'every',\n",
              " 'day',\n",
              " 'discovering',\n",
              " 'something',\n",
              " 'brand',\n",
              " 'new',\n",
              " 'im',\n",
              " 'love',\n",
              " 'shape']"
            ]
          },
          "metadata": {},
          "execution_count": 75
        }
      ]
    },
    {
      "cell_type": "code",
      "source": [
        "freq_dist_clean = nltk.FreqDist(filtered_sentence)\n",
        "print(freq_dist_clean.most_common(5)) # cambian completamente las palabras más frecuentes"
      ],
      "metadata": {
        "colab": {
          "base_uri": "https://localhost:8080/"
        },
        "id": "xrb5TX_aN3Ha",
        "outputId": "31ae7c7d-9c52-4b8d-b84d-bd1fd46d8274"
      },
      "execution_count": null,
      "outputs": [
        {
          "output_type": "stream",
          "name": "stdout",
          "text": [
            "[('come', 37), ('love', 25), ('im', 23), ('body', 17), ('baby', 14)]\n"
          ]
        }
      ]
    },
    {
      "cell_type": "code",
      "source": [
        "# podemos generar una nube de palabras\n",
        "wordcloud = WordCloud(width = 800, \n",
        "                      height = 800,\n",
        "                      background_color ='white', \n",
        "                      min_font_size = 10).generate(\" \".join(filtered_sentence)) \n",
        "\n",
        "# realizamos un plot de la misma\n",
        "plt.imshow(wordcloud) \n",
        "plt.axis(\"off\") \n",
        "plt.tight_layout(pad = 0) \n",
        "\n",
        "plt.show()"
      ],
      "metadata": {
        "colab": {
          "base_uri": "https://localhost:8080/",
          "height": 319
        },
        "id": "9xPz_7PJOHeW",
        "outputId": "62fa182b-690d-4cbc-9b6c-cd45c84ca403"
      },
      "execution_count": null,
      "outputs": [
        {
          "output_type": "display_data",
          "data": {
            "text/plain": [
              "<Figure size 432x288 with 1 Axes>"
            ],
            "image/png": "[encoded data removed]"
          },
          "metadata": {
            "needs_background": "light"
          }
        }
      ]
    },
    {
      "cell_type": "markdown",
      "source": [
        "**Sentimientos**"
      ],
      "metadata": {
        "id": "NALV3S9jOtRd"
      }
    },
    {
      "cell_type": "code",
      "source": [
        "from nltk.sentiment.vader import SentimentIntensityAnalyzer\n",
        "nltk.download('vader_lexicon')"
      ],
      "metadata": {
        "colab": {
          "base_uri": "https://localhost:8080/"
        },
        "id": "n-jjC3ncOwBG",
        "outputId": "c818fa94-59b9-4e1b-ffc0-4a12d350bace"
      },
      "execution_count": null,
      "outputs": [
        {
          "output_type": "stream",
          "name": "stderr",
          "text": [
            "[nltk_data] Downloading package vader_lexicon to /root/nltk_data...\n",
            "[nltk_data]   Package vader_lexicon is already up-to-date!\n"
          ]
        },
        {
          "output_type": "execute_result",
          "data": {
            "text/plain": [
              "True"
            ]
          },
          "metadata": {},
          "execution_count": 60
        }
      ]
    },
    {
      "cell_type": "code",
      "source": [
        "filtered_to_string = \" \".join(filtered_sentence)\n",
        "filtered_to_string"
      ],
      "metadata": {
        "colab": {
          "base_uri": "https://localhost:8080/",
          "height": 174
        },
        "id": "hygQz3gLSKcw",
        "outputId": "71522909-465c-4167-c81e-79a6718d8616"
      },
      "execution_count": null,
      "outputs": [
        {
          "output_type": "execute_result",
          "data": {
            "text/plain": [
              "'0 club isnt best place find lover bar go friends table shots drinking fast talk slow come start conversation trust ill give chance take hand stop put van man jukebox start dance im singing like pre girl know want love love handmade somebody like come follow lead may crazy dont mind say boy lets talk much grab waist put body come follow lead come come follow lead im love shape push pull like magnet although heart falling im love body last night room bed sheets smell like every day discovering something brand new im love body ohiohiohiohi im love body ohiohiohiohi im love body ohiohiohiohi im love body every day discovering something brand new im love shape one week let story begin going first date thrifty go eat fill bag fill plate talk hours hours sweet sour family okay leave get taxi kiss backseat tell driver make radio play im singing like pre girl know want love love handmade somebody like come follow lead may crazy dont mind say boy lets talk much grab waist put body come follow lead come come follow lead im love shape push pull like magnet although heart falling im love body last night room bed sheets smell like every day discovering something brand new im love body ohiohiohiohi im love body ohiohiohiohi im love body ohiohiohiohi im love body every day discovering something brand new im love shape come baby come come baby come come baby come come baby come come baby come come baby come come baby come come baby come im love shape push pull like magnet although heart falling im love body last night room bed sheets smell like every day discovering something brand new im love body come baby come come baby come im love body come baby come come baby come im love body come baby come come baby come im love body every day discovering something brand new im love shape'"
            ],
            "application/vnd.google.colaboratory.intrinsic+json": {
              "type": "string"
            }
          },
          "metadata": {},
          "execution_count": 84
        }
      ]
    },
    {
      "cell_type": "code",
      "source": [
        "# Creamos una función para analizar los sentimientos\n",
        "\n",
        "def sentiment_scores(sentence):\n",
        " \n",
        "    # Creamos un objeto del tipo SentimentIntensityAnalyze\n",
        "    sid_obj = SentimentIntensityAnalyzer()\n",
        " \n",
        "    # usamos el método polarity_scores del SentimentIntensityAnalyzer\n",
        "    # que nos da un diccionario de sentimientos\n",
        "    # que contiene pos (positivos) neg (negativos) neu(neutros) y los el score\n",
        "    # el compound es la suma de los positivos, negativos y neutrales\n",
        "    # normalizado entre -1 extremo negativo y +1 extremo positivo\n",
        "    \n",
        "    sentiment_dict = sid_obj.polarity_scores(sentence)\n",
        "     \n",
        "    print(\"Los scores son: \", sentiment_dict)\n",
        "    print(\"La letra fue un \", sentiment_dict['neg']*100, \"% Negativa\")\n",
        "    print(\"La letra fue un  \", sentiment_dict['neu']*100, \"% Neutral\")\n",
        "    print(\"La letra fue un  \", sentiment_dict['pos']*100, \"% Positiva\")\n",
        " \n",
        "    print(\"Entonces la canción es\", end = \" \")\n",
        " \n",
        "    # imprimimos el resultado de acuerdo a donde caiga el número\n",
        "    if sentiment_dict['compound'] >= 0.05 :\n",
        "        print(\"Positiva\")\n",
        " \n",
        "    elif sentiment_dict['compound'] <= - 0.05 :\n",
        "        print(\"Negativa\")\n",
        " \n",
        "    else :\n",
        "        print(\"Neutral\")"
      ],
      "metadata": {
        "id": "CJqM_Tt9O3Cl"
      },
      "execution_count": null,
      "outputs": []
    },
    {
      "cell_type": "code",
      "source": [
        "sentiment_scores(filtered_to_string)"
      ],
      "metadata": {
        "colab": {
          "base_uri": "https://localhost:8080/"
        },
        "id": "mWseuKv3VJzN",
        "outputId": "efd52fe3-79fc-429b-de70-04bfb655828c"
      },
      "execution_count": null,
      "outputs": [
        {
          "output_type": "stream",
          "name": "stdout",
          "text": [
            "Los scores son:  {'neg': 0.043, 'neu': 0.601, 'pos': 0.356, 'compound': 0.9993}\n",
            "La letra fue un  4.3 % Negativa\n",
            "La letra fue un   60.099999999999994 % Neutral\n",
            "La letra fue un   35.6 % Positiva\n",
            "Entonces la canción es Positiva\n"
          ]
        }
      ]
    },
    {
      "cell_type": "markdown",
      "source": [
        "### Ejercicios"
      ],
      "metadata": {
        "id": "zPiTx3OMGYJG"
      }
    },
    {
      "cell_type": "code",
      "source": [
        "# 1. Analizar los raitings de las 250 películas scrapeadas"
      ],
      "metadata": {
        "id": "Q9IeGLNjFlDz"
      },
      "execution_count": null,
      "outputs": []
    },
    {
      "cell_type": "code",
      "source": [
        "# 2. ¿Cuántas películas tienen un rating mayor a 8?"
      ],
      "metadata": {
        "id": "SHenhTQnHRn6"
      },
      "execution_count": null,
      "outputs": []
    },
    {
      "cell_type": "code",
      "source": [
        "# 3. Realizar un gráfico de línea por año con cantidad de películas estrenadas"
      ],
      "metadata": {
        "id": "Ix9gZE3XHtj8"
      },
      "execution_count": null,
      "outputs": []
    },
    {
      "cell_type": "code",
      "source": [
        "# 4. Elegir la letra de una canción en internet y analizar sus palabras más frecuentes"
      ],
      "metadata": {
        "id": "btZhe1YOWNZS"
      },
      "execution_count": null,
      "outputs": []
    }
  ]
}