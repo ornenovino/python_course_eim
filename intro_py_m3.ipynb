{
  "nbformat": 4,
  "nbformat_minor": 0,
  "metadata": {
    "colab": {
      "provenance": [],
      "collapsed_sections": [
        "CcOtMqiOz8eq",
        "GBHIq_nVv_8d",
        "Z8B5yjvR3fKI",
        "zxBLX6AkBLbk"
      ],
      "mount_file_id": "1auGjqr9_xnH1n8Liq30hoXBQac0rsibx",
      "authorship_tag": "ABX9TyNd9hp0aAkeuFUNhtJf9JgJ",
      "include_colab_link": true
    },
    "kernelspec": {
      "name": "python3",
      "display_name": "Python 3"
    },
    "language_info": {
      "name": "python"
    }
  },
  "cells": [
    {
      "cell_type": "markdown",
      "metadata": {
        "id": "view-in-github",
        "colab_type": "text"
      },
      "source": [
        "<a href=\"https://colab.research.google.com/github/ornenovino/python_course_eim/blob/main/intro_py_m3.ipynb\" target=\"_parent\"><img src=\"https://colab.research.google.com/assets/colab-badge.svg\" alt=\"Open In Colab\"/></a>"
      ]
    },
    {
      "cell_type": "markdown",
      "source": [
        "\n",
        "# Introducción a la programación en python"
      ],
      "metadata": {
        "id": "FGCsaaYix3CK"
      }
    },
    {
      "cell_type": "markdown",
      "source": [
        "## Módulo 3: Visualización de datos con Python"
      ],
      "metadata": {
        "id": "nHQwEcLwx5_-"
      }
    },
    {
      "cell_type": "markdown",
      "source": [
        "\n",
        "Uso de librerías como Matplotlib, Seaborn y Plotly para crear gráficos y visualizaciones de datos de manera efectiva."
      ],
      "metadata": {
        "id": "svVbDK9boZrO"
      }
    },
    {
      "cell_type": "code",
      "source": [
        "import pandas as pd\n",
        "import seaborn as sns\n",
        "import matplotlib.pyplot as plt\n",
        "import plotly.express as px"
      ],
      "metadata": {
        "id": "kppd3WaI1OVI"
      },
      "execution_count": null,
      "outputs": []
    },
    {
      "cell_type": "markdown",
      "source": [
        "### Matplotlib"
      ],
      "metadata": {
        "id": "CcOtMqiOz8eq"
      }
    },
    {
      "cell_type": "code",
      "source": [
        "# https://matplotlib.org/stable/gallery/index\n",
        "# Cargamos una encuesta sobre marcas de ketchup\n",
        "ketchup = pd.read_csv('/content/drive/MyDrive/python_intro/Ketchup.csv')"
      ],
      "metadata": {
        "id": "zHzI1iaHPt2A"
      },
      "execution_count": null,
      "outputs": []
    },
    {
      "cell_type": "code",
      "source": [
        "ketchup.head()"
      ],
      "metadata": {
        "id": "aCSi30yKPynH"
      },
      "execution_count": null,
      "outputs": []
    },
    {
      "cell_type": "code",
      "source": [
        "# Generamos un df con los nombres y el count por marca\n",
        "choice = ketchup['Ketchup.choice'].value_counts().rename_axis('names').reset_index(name='counts')\n",
        "print(choice.head())\n",
        "choice['names'] = choice['names'].str.capitalize() # pasamos la primer letra a mayúscula\n",
        "choice.head()"
      ],
      "metadata": {
        "id": "egxUfT8EQAqt"
      },
      "execution_count": null,
      "outputs": []
    },
    {
      "cell_type": "code",
      "source": [
        "# generamos un simple barplot por marca\n",
        "plt.bar(choice['names'], choice['counts'])"
      ],
      "metadata": {
        "id": "2SnKLy7e0OKJ"
      },
      "execution_count": null,
      "outputs": []
    },
    {
      "cell_type": "code",
      "source": [
        "# incluso podemos cambiarle los colores\n",
        "plt.bar(choice['names'], choice['counts'], color=['red', 'green', 'blue', 'orange'])"
      ],
      "metadata": {
        "id": "Lbibae1U0sDa"
      },
      "execution_count": null,
      "outputs": []
    },
    {
      "cell_type": "code",
      "source": [
        "# hay que tener en cuenta que los graficos funcionan como canvas - capas\n",
        "fig, ax = plt.subplots() # creamos las primeras capas\n",
        "\n",
        "bar_colors = ['tab:red', 'tab:green', 'tab:blue', 'tab:orange']\n",
        "\n",
        "ax.bar(choice['names'], choice['counts'], color = bar_colors)\n",
        "\n",
        "ax.set_ylabel('Count')\n",
        "ax.set_title('Count of brands')\n",
        "ax.set_xlabel('Brand')\n",
        " \n",
        "plt.show() # obtenemos el mismo resultado"
      ],
      "metadata": {
        "id": "NNrX78up1MHa"
      },
      "execution_count": null,
      "outputs": []
    },
    {
      "cell_type": "code",
      "source": [
        "# podemos hacer graficos de torta\n",
        "fig, ax = plt.subplots()\n",
        "ax.pie(choice['counts'], labels = choice['names'], autopct='%1.1f%%')"
      ],
      "metadata": {
        "id": "rNUQQFeG20TW"
      },
      "execution_count": null,
      "outputs": []
    },
    {
      "cell_type": "markdown",
      "source": [
        "### Seaborn"
      ],
      "metadata": {
        "id": "GBHIq_nVv_8d"
      }
    },
    {
      "cell_type": "code",
      "source": [
        "# Seaborn nos ofrece datasets que podemos descargar y almacenar para trabajar\n",
        "# https://github.com/mwaskom/seaborn-data\n",
        "# https://rdrr.io/cran/reshape2/man/tips.html \n",
        "df = sns.load_dataset('tips')\n",
        "df.head()"
      ],
      "metadata": {
        "id": "ZefvkZ3GoU5Y"
      },
      "execution_count": null,
      "outputs": []
    },
    {
      "cell_type": "code",
      "source": [
        "# podemos hacer un simple .barplot() con el total de la cuenta por el horario del dia\n",
        "plot = sns.barplot(data = df, x = 'time', y = 'total_bill')\n",
        "plot.set(xlabel = 'Hour', ylabel = '$USD Total Bill')\n",
        "plt.show()"
      ],
      "metadata": {
        "id": "cgquQaS6pH_J"
      },
      "execution_count": null,
      "outputs": []
    },
    {
      "cell_type": "code",
      "source": [
        "# podemos setear un tema (tener en cuenta el modelo de capas)\n",
        "sns.set_theme(style = 'whitegrid')\n",
        "# o simplemente el genero con la funcion .countplot()\n",
        "plot = sns.countplot(x = 'sex', data = df)\n",
        "plot.set(ylabel = '', xlabel = 'Gender', title = 'Gender distribution')\n",
        "plt.show()"
      ],
      "metadata": {
        "id": "tIZchUYpsP4x"
      },
      "execution_count": null,
      "outputs": []
    },
    {
      "cell_type": "code",
      "source": [
        "# Cargamos informacion sobre covid en uy\n",
        "# https://guiad-covid.github.io/data/estadisticasuy/estadisticasuy/\n",
        "covid = pd.read_csv('https://raw.githubusercontent.com/GUIAD-COVID/datos-y-visualizaciones-GUIAD/master/datos/estadisticasUY.csv')\n",
        "covid.head()"
      ],
      "metadata": {
        "id": "0fo6H6AkuXuG"
      },
      "execution_count": null,
      "outputs": []
    },
    {
      "cell_type": "code",
      "source": [
        "# separamos el dia, el mes y el año\n",
        "covid[['dia', 'mes', 'ano']] = covid['fecha'].str.split('/', expand = True)\n",
        "covid.head()"
      ],
      "metadata": {
        "id": "hmrGN1BewX6X"
      },
      "execution_count": null,
      "outputs": []
    },
    {
      "cell_type": "code",
      "source": [
        "# filtramos por 2021\n",
        "covid2021 = covid[covid['ano'] == '2021']\n",
        "covid2021.head()"
      ],
      "metadata": {
        "id": "dhVRcO7ixHoG"
      },
      "execution_count": null,
      "outputs": []
    },
    {
      "cell_type": "code",
      "source": [
        "# podemos plotear la cantidad de casos nuevos por mes del 2021\n",
        "sns.lineplot(data = covid2021, x = 'mes', y = 'cantCasosNuevosOriginal')"
      ],
      "metadata": {
        "id": "1aNq5hT2xtTw"
      },
      "execution_count": null,
      "outputs": []
    },
    {
      "cell_type": "markdown",
      "source": [
        "### Plotly"
      ],
      "metadata": {
        "id": "Z8B5yjvR3fKI"
      }
    },
    {
      "cell_type": "code",
      "source": [
        "# al igual que seaborn plotly tiene algunos datasets por ejemplo el de tips\n",
        "df = px.data.tips()\n",
        "fig = px.histogram(df, x = 'sex', y = \"total_bill\",\n",
        "             color = 'smoker', barmode = 'group',\n",
        "             height = 400)\n",
        "fig.show()"
      ],
      "metadata": {
        "id": "eK4iY5UTAxuc"
      },
      "execution_count": null,
      "outputs": []
    },
    {
      "cell_type": "code",
      "source": [
        "# https://www.gapminder.org/data/documentation/\n",
        "# poblacion del Uruguay por año\n",
        "\n",
        "dfuy = px.data.gapminder().query(\"country == 'Uruguay'\")\n",
        "fig = px.bar(dfuy, x = 'year', y = 'pop', text_auto = '.2s')\n",
        "fig.show()"
      ],
      "metadata": {
        "id": "UYnD1yz184-e"
      },
      "execution_count": null,
      "outputs": []
    },
    {
      "cell_type": "code",
      "source": [
        "# poblacion del Uruguay por año\n",
        "dfuy = px.data.gapminder().query(\"country in ['Uruguay']\")\n",
        "fig = px.bar(dfuy, x = 'year', y = 'pop', text_auto = '.2s')\n",
        "fig.update_traces(textfont_size = 12, textangle = 0, textposition = 'outside', cliponaxis = False)\n",
        "fig.show()"
      ],
      "metadata": {
        "id": "tpTWWsY3ANgE"
      },
      "execution_count": null,
      "outputs": []
    },
    {
      "cell_type": "code",
      "source": [
        "df = px.data.gapminder().query(\"country in ['Uruguay', 'Argentina', 'Chile']\") # para poder hacer querys\n",
        "\n",
        "# en este caso graficamos la esperanza de vida por año y pais seleccionado\n",
        "fig = px.line(df, \n",
        "              x = 'year', y = 'lifeExp', \n",
        "              color = 'country', \n",
        "              markers = True, \n",
        "              symbol = 'country',\n",
        "              title = 'Esperanza de vida de Argentina, Chile y Uruguay por año',\n",
        "              labels = {\n",
        "                     \"lifeExp\": \"Esperanza de vida\",\n",
        "                     \"year\": \"Año\",\n",
        "                     \"country\": \"País\"\n",
        "                 })\n",
        "fig.show()"
      ],
      "metadata": {
        "id": "riXAeOHi3iFx"
      },
      "execution_count": null,
      "outputs": []
    },
    {
      "cell_type": "code",
      "source": [
        "# aqui podemos graficar el PBI per capita por la esperanza de vida\n",
        "fig = px.line(df, x = 'lifeExp', y = 'gdpPercap', color = 'country', text = 'year') # podemos agregar el año\n",
        "fig.update_traces(textposition = 'bottom right') # y donde queremos que vaya\n",
        "fig.show()"
      ],
      "metadata": {
        "id": "QHBVtrqO4x8Q"
      },
      "execution_count": null,
      "outputs": []
    },
    {
      "cell_type": "code",
      "source": [
        "# aqui podemos graficar el PBI per capita por la esperanza de vida\n",
        "fig = px.line(df, x = 'lifeExp', y = 'gdpPercap', color = 'country', text = 'year', template = 'ggplot2',\n",
        "              title = 'Esperanza de vida por PBI per capita de Argentina, Chile y Uruguay',\n",
        "              labels={\n",
        "                     \"lifeExp\": \"Esperanza de vida\",\n",
        "                     \"gdpPercap\": \"PBI per capita\",\n",
        "                     \"country\": \"País\"\n",
        "                 }) # podemos cambiar el tema\n",
        "fig.update_traces(textposition = 'bottom right') # y donde queremos que vaya\n",
        "fig.show()"
      ],
      "metadata": {
        "id": "p9vd0omf8La5"
      },
      "execution_count": null,
      "outputs": []
    }
  ]
}