{
  "nbformat": 4,
  "nbformat_minor": 0,
  "metadata": {
    "colab": {
      "provenance": [],
      "mount_file_id": "1AVQBkpViIgRqdEW13k9xauekdkT3aifl",
      "authorship_tag": "ABX9TyNhcS/0c8N7qIwp+de19jK8",
      "include_colab_link": true
    },
    "kernelspec": {
      "name": "python3",
      "display_name": "Python 3"
    },
    "language_info": {
      "name": "python"
    }
  },
  "cells": [
    {
      "cell_type": "markdown",
      "metadata": {
        "id": "view-in-github",
        "colab_type": "text"
      },
      "source": [
        "<a href=\"https://colab.research.google.com/github/ornenovino/python_course_eim/blob/main/intro_py_m2.ipynb\" target=\"_parent\"><img src=\"https://colab.research.google.com/assets/colab-badge.svg\" alt=\"Open In Colab\"/></a>"
      ]
    },
    {
      "cell_type": "markdown",
      "source": [
        "# Introducción a la programación en python"
      ],
      "metadata": {
        "id": "1GsYq-JjlgWj"
      }
    },
    {
      "cell_type": "markdown",
      "source": [
        "# Módulo 2: Análisis de datos con Python"
      ],
      "metadata": {
        "id": "NmXKlkNsCCMX"
      }
    },
    {
      "cell_type": "markdown",
      "source": [
        "Manipulación y limpieza de datos, trabajo con módulos y librerías populares como NumPy y Pandas para el análisis y la manipulación de datos en formato tabular."
      ],
      "metadata": {
        "id": "UuhtEqEzj6Aq"
      }
    },
    {
      "cell_type": "markdown",
      "source": [
        "## Librerías"
      ],
      "metadata": {
        "id": "9ChP0cvgkE2A"
      }
    },
    {
      "cell_type": "markdown",
      "source": [
        "Una librería de Python es un conjunto de módulos que contienen funciones, clases y objetos que pueden ser reutilizados para realizar tareas comunes. Estas librerías proporcionan una forma rápida y eficiente de implementar código sin necesidad de escribir todo desde cero. Algunos ejemplos comunes de librerías en Python incluyen matplotlib, NumPy, SciPy y Pandas."
      ],
      "metadata": {
        "id": "0wMNDXo1kPBH"
      }
    },
    {
      "cell_type": "markdown",
      "source": [
        "Para poder utilizar estas liberías hay que instalarlas, pero al estar trabajando en Google Collab la gran mayoría de las más utilizadas se encuentran disponibles."
      ],
      "metadata": {
        "id": "AH4xXflmkdKO"
      }
    },
    {
      "cell_type": "code",
      "source": [
        "# Para poder utilizar los metodos de estas librerias es necesario importarlas\n",
        "import numpy\n",
        "\n",
        "# Para simplificar se pueden importar agregandoles un alias\n",
        "import numpy as np"
      ],
      "metadata": {
        "id": "NUBqIFd8knas"
      },
      "execution_count": null,
      "outputs": []
    },
    {
      "cell_type": "code",
      "source": [
        "# random.randint son funciones que pertenecen a la libreria NumPy para poder\n",
        "# llamarlas y utilizarlas se debe de mencionar a la libería antes\n",
        "\n",
        "matriz = np.random.randint(0, 10, (3, 3))\n",
        "print(matriz)"
      ],
      "metadata": {
        "id": "UZCDyz-rk0Zu"
      },
      "execution_count": null,
      "outputs": []
    },
    {
      "cell_type": "markdown",
      "source": [
        "## NumPy"
      ],
      "metadata": {
        "id": "7UqvXMpolncK"
      }
    },
    {
      "cell_type": "markdown",
      "source": [
        "Numpy es una biblioteca de Python que proporciona un objeto de matriz multidimensional y herramientas para trabajar con él. Se utiliza principalmente para realizar cálculos numéricos y estadísticos."
      ],
      "metadata": {
        "id": "jbSA3XLPl374"
      }
    },
    {
      "cell_type": "code",
      "source": [
        "# Se pueden realizar arreglos unidimensionales\n",
        "m_unidimencional = np.array([2,6,8,10,12,14])\n",
        "type(m_unidimencional)"
      ],
      "metadata": {
        "id": "XubRka5AmBYW"
      },
      "execution_count": null,
      "outputs": []
    },
    {
      "cell_type": "code",
      "source": [
        "# Al mismo tiempo que se pueden realizar operaciones con las mismas\n",
        "m_unidimencional ** 2"
      ],
      "metadata": {
        "id": "NUkQHnvxmO-K"
      },
      "execution_count": null,
      "outputs": []
    },
    {
      "cell_type": "code",
      "source": [
        "# Tambien arreglos bidimensionales llamados matrices\n",
        "\n",
        "matriz1 = np.array([[1,2,3], [4,5,6], [7,8,9]]) \n",
        "print(matriz1) \n",
        "\n",
        "# Y sumar sus elementos\n",
        "matriz2 = np.array([[1,2,3], [4,5,6], [7,8,9]]) \n",
        "suma = np.sum(matriz2) \n",
        "print(suma) "
      ],
      "metadata": {
        "id": "ld0UnQn1lnJ8"
      },
      "execution_count": null,
      "outputs": []
    },
    {
      "cell_type": "code",
      "source": [
        "# Tambien se puede acceder a sus elementos mediante el slicing\n",
        "matriz1[0]\n",
        "matriz1[0:2]"
      ],
      "metadata": {
        "id": "ZhymXuiTl9yG"
      },
      "execution_count": null,
      "outputs": []
    },
    {
      "cell_type": "markdown",
      "source": [
        "## Pandas"
      ],
      "metadata": {
        "id": "oXvdhiDgoyER"
      }
    },
    {
      "cell_type": "markdown",
      "source": [
        "Pandas es una biblioteca de código abierto de Python que proporciona estructuras de datos y herramientas de análisis de alto rendimiento y fáciles de usar. Está diseñado para hacer trabajar con datos tabulares. Pandas se usa a menudo en análisis financiero, ciencia de datos, análisis estadístico y machine learning."
      ],
      "metadata": {
        "id": "dycx4GjZo5Iq"
      }
    },
    {
      "cell_type": "markdown",
      "source": [
        "### Importando datos"
      ],
      "metadata": {
        "id": "Yo1fNFthgH42"
      }
    },
    {
      "cell_type": "markdown",
      "source": [
        "Para poder trabajar con datos tenemos que almacenarlos en variables dentro de Python. Es por eso que la importación de los mismos es crucial."
      ],
      "metadata": {
        "id": "cwpuBgQ5nh0D"
      }
    },
    {
      "cell_type": "code",
      "source": [
        "import pandas as pd"
      ],
      "metadata": {
        "id": "w0ywkaR9pCea"
      },
      "execution_count": null,
      "outputs": []
    },
    {
      "cell_type": "markdown",
      "source": [
        "La función `.read_excel` nos permite importar y cargar en la memoria de Python un archivo de Excel. También la `.read_csv()` para archivos CSV y también TSB especificando el separador. Incluso podemos leer páginas web con `.read_html()`"
      ],
      "metadata": {
        "id": "z4alNtpKg8Gy"
      }
    },
    {
      "cell_type": "code",
      "source": [
        "# Podemos leer distintos tipos de archivos en formato tabular para trabajar con los mismos\n",
        "# Primero debemos almacenarlos en una variable\n",
        "titanic = pd.read_csv('https://raw.githubusercontent.com/datasciencedojo/datasets/master/titanic.csv') \n",
        "titanic.head()"
      ],
      "metadata": {
        "id": "ovCRczAJo1qF"
      },
      "execution_count": null,
      "outputs": []
    },
    {
      "cell_type": "code",
      "source": [
        "type(titanic)"
      ],
      "metadata": {
        "id": "wG3kfFgsnsNj"
      },
      "execution_count": null,
      "outputs": []
    },
    {
      "cell_type": "markdown",
      "source": [
        "### Estádisticos descriptivos"
      ],
      "metadata": {
        "id": "qQMGUHkzhXmq"
      }
    },
    {
      "cell_type": "code",
      "source": [
        "titanic['Age'].mean() # la media de la edad"
      ],
      "metadata": {
        "id": "kubT2ZFn3SRI"
      },
      "execution_count": null,
      "outputs": []
    },
    {
      "cell_type": "code",
      "source": [
        "titanic['Age'].describe() # incluso hacer lo mismo que con el dataset pero solo para una variable"
      ],
      "metadata": {
        "id": "pGGaOET6kxRY"
      },
      "execution_count": null,
      "outputs": []
    },
    {
      "cell_type": "code",
      "source": [
        "titanic.groupby('Sex')['Age'].mean() # con .groupby() podemos agrupar por una variable y luego agregarle la media de la edad"
      ],
      "metadata": {
        "id": "KD66csG1mXy0"
      },
      "execution_count": null,
      "outputs": []
    },
    {
      "cell_type": "code",
      "source": [
        "titanic.groupby(['Sex', 'Pclass'])['Age'].mean() # o agrupar por mas de una"
      ],
      "metadata": {
        "id": "eu4ogaT6mekW"
      },
      "execution_count": null,
      "outputs": []
    },
    {
      "cell_type": "markdown",
      "source": [
        "### Filtros"
      ],
      "metadata": {
        "id": "79tSVtSQnJg7"
      }
    },
    {
      "cell_type": "markdown",
      "source": [
        "Pandas también nos permite filtrar nuestra data para trabajar con subsets de la misma."
      ],
      "metadata": {
        "id": "QUSrKhHmnsPf"
      }
    },
    {
      "cell_type": "code",
      "source": [
        "ages = titanic[\"Age\"] # podemos quedarnos con simplemente una columna\n",
        "ages.head()"
      ],
      "metadata": {
        "id": "zJiFpY4ZnSWL"
      },
      "execution_count": null,
      "outputs": []
    },
    {
      "cell_type": "code",
      "source": [
        "over_20 = titanic[titanic[\"Age\"] > 20] # o quedarnos con aquellos que tienen mas de 20\n",
        "over_20.head()"
      ],
      "metadata": {
        "id": "fgau19G12W5O"
      },
      "execution_count": null,
      "outputs": []
    },
    {
      "cell_type": "code",
      "source": [
        "titanic[titanic[\"Sex\"] == \"female\"]"
      ],
      "metadata": {
        "id": "4QEMijEeono4"
      },
      "execution_count": null,
      "outputs": []
    },
    {
      "cell_type": "code",
      "source": [
        "cabin = titanic[titanic[\"Cabin\"].isin(['C85', 'C123'])] # o aquellos en la cabina c85 o c123\n",
        "cabin.groupby('Cabin').count()"
      ],
      "metadata": {
        "id": "A8dJK35I2hys"
      },
      "execution_count": null,
      "outputs": []
    },
    {
      "cell_type": "markdown",
      "source": [
        "### Reshaping la data"
      ],
      "metadata": {
        "id": "5vOLwlbZ3wei"
      }
    },
    {
      "cell_type": "code",
      "source": [
        "titanic[\"Fare\"] = titanic[\"Fare\"] * 2 # podemos modificar los valores de los precios * 2\n",
        "titanic.head()"
      ],
      "metadata": {
        "id": "pkMa58zP3-Ap"
      },
      "execution_count": null,
      "outputs": []
    },
    {
      "cell_type": "code",
      "source": [
        "# se pueden renombrar las columnas\n",
        "titanic_new_columns = titanic.rename(\n",
        "    columns={\n",
        "        \"Survived\": \"Sobrevivio\",\n",
        "        \"Pclass\": \"Clase\",\n",
        "        \"Fare\": \"Precio\",\n",
        "    }\n",
        ") \n",
        "\n",
        "titanic_new_columns.head() "
      ],
      "metadata": {
        "id": "26nKeUUn4Ve3"
      },
      "execution_count": null,
      "outputs": []
    },
    {
      "cell_type": "markdown",
      "source": [
        "## Análisis sobre datos de opinión pública en Uruguay"
      ],
      "metadata": {
        "id": "QCNb4GmL3nm7"
      }
    },
    {
      "cell_type": "markdown",
      "source": [
        "Utilizaremos una base de datos que contiene información sobre opinión pública del Uruguay localizada en el siguiente repositorio:\n",
        "https://github.com/Nicolas-Schmidt/opuy\n",
        "Si pueden mirenlo, esta bastante copado para trabajar en R pero también se puede acceder a la data del paquete en Python."
      ],
      "metadata": {
        "id": "E62456LjqFOx"
      }
    },
    {
      "cell_type": "markdown",
      "source": [
        "La documentación del paquete nos brinda un diccionario de atributos para conocer que es cada uno:\n",
        "https://github.com/Nicolas-Schmidt/opuy/blob/master/man/figures/Manual_opuy.pdf"
      ],
      "metadata": {
        "id": "tzPfG2HBrpNh"
      }
    },
    {
      "cell_type": "code",
      "source": [
        "df = pd.read_excel('https://github.com/Nicolas-Schmidt/opuy/blob/d211b76157aa2616367ce4010f859b9dbac27ff4/data-raw/opuy.xlsx?raw=true') \n",
        "df.head()"
      ],
      "metadata": {
        "id": "Ug0Nib40FlO1"
      },
      "execution_count": null,
      "outputs": []
    },
    {
      "cell_type": "code",
      "source": [
        "fa_cosse = df[(df['candidato'] == 'Carolina Cosse')]\n",
        "\n",
        "fa_cosse.groupby(['anio_medicion'])['valor'].mean() # promedio de intencion de voto a Carolina Cosse por año"
      ],
      "metadata": {
        "id": "9u8b8MoYp1DQ"
      },
      "execution_count": null,
      "outputs": []
    },
    {
      "cell_type": "code",
      "source": [
        "fa_pn_19 = df[\n",
        "    (df['tipo_eleccion'] == 'Nacional') & \n",
        "    (df['partido'] == 'Frente Amplio') | \n",
        "    (df['partido'] == 'Partido Nacional') & \n",
        "    (df['medicion'] == 'Intencion de voto') & \n",
        "    (df['anio_medicion'] == 2019)]\n",
        "fa_pn_19.groupby(['partido', 'empresa'])['valor'].mean() # promedio de intencion de voto por partido y empresa para el 2019"
      ],
      "metadata": {
        "id": "h5aE6KXcHvpl"
      },
      "execution_count": null,
      "outputs": []
    },
    {
      "cell_type": "code",
      "source": [
        "df_19 = df[df['anio_medicion'] == 2019]\n",
        "pd.crosstab(df_19['candidato'], df_19['empresa']) # cuantas veces aparece por empresa los candidatos en el datset"
      ],
      "metadata": {
        "id": "Sshlv4X-3dD1"
      },
      "execution_count": null,
      "outputs": []
    },
    {
      "cell_type": "code",
      "source": [
        "pd.crosstab(df_19['candidato'], df_19['empresa'], margins = True) # incluso agregar el total"
      ],
      "metadata": {
        "id": "Yx1vmAzs_Up_"
      },
      "execution_count": null,
      "outputs": []
    },
    {
      "cell_type": "markdown",
      "source": [
        "## Análisis de encuestas"
      ],
      "metadata": {
        "id": "KMjPTnOEtpHL"
      }
    },
    {
      "cell_type": "markdown",
      "source": [
        "Stackoverflow hace una encuesta anual a desarrolladores de software, en este caso la utilizaremos para realizar un análisis de encuesta. https://insights.stackoverflow.com/survey"
      ],
      "metadata": {
        "id": "zuQztPNMuNXM"
      }
    },
    {
      "cell_type": "code",
      "source": [
        "df = pd.read_csv('/content/drive/MyDrive/python_intro/survey_results_public.csv')"
      ],
      "metadata": {
        "id": "vcKaPjuO3xvT"
      },
      "execution_count": null,
      "outputs": []
    },
    {
      "cell_type": "code",
      "source": [
        "df.head()"
      ],
      "metadata": {
        "id": "zUmGpkYX37jZ"
      },
      "execution_count": null,
      "outputs": []
    },
    {
      "cell_type": "code",
      "source": [
        "# Separando los datos de respuestas multiples en varias columnas\n",
        "df[[\"employment_0\", \"employment_1\", 'employment_2', 'employment_3', 'employment_4', 'employment_5', 'employment_6']] = df[\"Employment\"].str.split(\",\", expand=True)"
      ],
      "metadata": {
        "id": "2d1QJ7_NviwP"
      },
      "execution_count": null,
      "outputs": []
    },
    {
      "cell_type": "code",
      "source": [
        "df.head()"
      ],
      "metadata": {
        "id": "IDN7rSMszhlG"
      },
      "execution_count": null,
      "outputs": []
    },
    {
      "cell_type": "code",
      "source": [
        "# Filtramos por desarrolladores y que codean por hobby\n",
        "dev = df[\n",
        "    (df['MainBranch'] == 'I am a developer by profession') &\n",
        "    (df['CodingActivities'] == 'Hobby')]\n",
        "\n",
        "# Hacemos un crosstab para saber el tipo de empleo y el tipo de trabajo\n",
        "pd.crosstab(\n",
        "    dev['employment_0'], \n",
        "    dev['RemoteWork'],\n",
        "    margins = True,\n",
        "    margins_name = 'total') # agregamos los totales"
      ],
      "metadata": {
        "id": "v-Krc5OO3_rO"
      },
      "execution_count": null,
      "outputs": []
    },
    {
      "cell_type": "code",
      "source": [
        "# Podemos modificar los nombres\n",
        "pd.crosstab(\n",
        "    dev['employment_0'], \n",
        "    dev['RemoteWork'],\n",
        "    rownames=['Empleo'], \n",
        "    colnames=['Tipo de empleo']\n",
        ")"
      ],
      "metadata": {
        "id": "uMIAc2MurPXL"
      },
      "execution_count": null,
      "outputs": []
    },
    {
      "cell_type": "code",
      "source": [
        "# Podemos ver los datos en proporciones \n",
        "pd.crosstab(\n",
        "    dev['employment_0'], \n",
        "    dev['RemoteWork'],\n",
        "    rownames=['Empleo'], \n",
        "    colnames=['Tipo de empleo'],\n",
        "    margins = True,\n",
        "    normalize = 'index' # por filas, con 'columns' es por columna, si es 'true' es por total de la tabla\n",
        ").style.format('{:.2%}') # formato %"
      ],
      "metadata": {
        "id": "gn-2pHb2q9-F"
      },
      "execution_count": null,
      "outputs": []
    },
    {
      "cell_type": "code",
      "source": [
        "# incluso podemos agregar mas variables\n",
        "pd.crosstab(\n",
        "    df['employment_0'], \n",
        "    [df['RemoteWork'], df['SurveyEase']]\n",
        ")"
      ],
      "metadata": {
        "id": "uM0B_EcdrgL_"
      },
      "execution_count": null,
      "outputs": []
    }
  ]
}