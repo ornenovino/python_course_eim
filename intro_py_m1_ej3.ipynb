{
  "nbformat": 4,
  "nbformat_minor": 0,
  "metadata": {
    "colab": {
      "provenance": [],
      "authorship_tag": "ABX9TyOTX6/Eu3BUs6NhpiiJDSCC",
      "include_colab_link": true
    },
    "kernelspec": {
      "name": "python3",
      "display_name": "Python 3"
    },
    "language_info": {
      "name": "python"
    }
  },
  "cells": [
    {
      "cell_type": "markdown",
      "metadata": {
        "id": "view-in-github",
        "colab_type": "text"
      },
      "source": [
        "<a href=\"https://colab.research.google.com/github/ornenovino/python_course_eim/blob/main/intro_py_m1_ej3.ipynb\" target=\"_parent\"><img src=\"https://colab.research.google.com/assets/colab-badge.svg\" alt=\"Open In Colab\"/></a>"
      ]
    },
    {
      "cell_type": "markdown",
      "source": [
        "# Ejercicio 3"
      ],
      "metadata": {
        "id": "QBFZwNVxnbJh"
      }
    },
    {
      "cell_type": "markdown",
      "source": [
        "Este ejercicio tiene como principal objetivo poner en práctica lo aprendido en el módulo 3. Realiza el ejercicio siguiendo la consigna, ten en cuenta que hay varias maneras de resolverlo. Por cualquier consulta no dudes escribir en el foro."
      ],
      "metadata": {
        "id": "bVKiUrwSni3X"
      }
    },
    {
      "cell_type": "code",
      "source": [
        "# 1. Realizar un plot con Matplotlib"
      ],
      "metadata": {
        "id": "HQTjMQC7ndxx"
      },
      "execution_count": null,
      "outputs": []
    },
    {
      "cell_type": "code",
      "source": [
        "# 2. Realizar un plot con Seaborn"
      ],
      "metadata": {
        "id": "WrTpGbQWne5G"
      },
      "execution_count": null,
      "outputs": []
    },
    {
      "cell_type": "code",
      "source": [
        "# 3. Realizar un plot con Plotly"
      ],
      "metadata": {
        "id": "Ei9ZGQirnfMw"
      },
      "execution_count": null,
      "outputs": []
    },
    {
      "cell_type": "code",
      "source": [
        "# 4. Realizar un plot con Titulo, Labels y más de 2 variables con\n",
        "# la libreria que prefieras"
      ],
      "metadata": {
        "id": "MMk5Fw0cngPW"
      },
      "execution_count": null,
      "outputs": []
    }
  ]
}