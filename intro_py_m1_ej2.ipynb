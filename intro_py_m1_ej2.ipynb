{
  "nbformat": 4,
  "nbformat_minor": 0,
  "metadata": {
    "colab": {
      "provenance": [],
      "authorship_tag": "ABX9TyOyLH9v4308tiBwaV7L7t1O",
      "include_colab_link": true
    },
    "kernelspec": {
      "name": "python3",
      "display_name": "Python 3"
    },
    "language_info": {
      "name": "python"
    }
  },
  "cells": [
    {
      "cell_type": "markdown",
      "metadata": {
        "id": "view-in-github",
        "colab_type": "text"
      },
      "source": [
        "<a href=\"https://colab.research.google.com/github/ornenovino/python_course_eim/blob/main/intro_py_m1_ej2.ipynb\" target=\"_parent\"><img src=\"https://colab.research.google.com/assets/colab-badge.svg\" alt=\"Open In Colab\"/></a>"
      ]
    },
    {
      "cell_type": "markdown",
      "source": [
        "# Ejercicio 2"
      ],
      "metadata": {
        "id": "8vBTSGq6mC2-"
      }
    },
    {
      "cell_type": "markdown",
      "source": [
        "Este ejercicio tiene como principal objetivo poner en práctica lo aprendido en el **módulo 2**. Realiza el ejercicio siguiendo la consigna, ten en cuenta que hay varias maneras de resolverlo. Por cualquier consulta no dudes escribir en el foro."
      ],
      "metadata": {
        "id": "XCj-5kywnJJR"
      }
    },
    {
      "cell_type": "code",
      "source": [
        "# 1. Cargar datos de cualquier encuesta\n",
        "encuesta = pd.read..."
      ],
      "metadata": {
        "id": "LE4gksGZmFyp"
      },
      "execution_count": null,
      "outputs": []
    },
    {
      "cell_type": "code",
      "source": [
        "# 2. Cambiar los nombres de al menos dos columnas\n",
        "encuesta = encuesta...()"
      ],
      "metadata": {
        "id": "vl02cD5tmHDW"
      },
      "execution_count": null,
      "outputs": []
    },
    {
      "cell_type": "code",
      "source": [
        "# 3. Calcular la media y la variación de una columna\n",
        "media = encuesta[...].()\n",
        "var = encuesta[...].()"
      ],
      "metadata": {
        "id": "ON5MURpKmIa9"
      },
      "execution_count": null,
      "outputs": []
    },
    {
      "cell_type": "code",
      "source": [
        "# 4. Realizar un filtro de una columna y almacenarlo en una variable\n",
        "encuesta_filtrada = encuesta[]"
      ],
      "metadata": {
        "id": "qGgtYigkmK1f"
      },
      "execution_count": null,
      "outputs": []
    },
    {
      "cell_type": "code",
      "source": [
        "# 5. Realizar un crosstab\n",
        "pd.crosstab(\n",
        "    ...\n",
        ")"
      ],
      "metadata": {
        "id": "_b6v_W5xmL7i"
      },
      "execution_count": null,
      "outputs": []
    }
  ]
}