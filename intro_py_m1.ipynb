{
  "nbformat": 4,
  "nbformat_minor": 0,
  "metadata": {
    "colab": {
      "provenance": [],
      "collapsed_sections": [
        "8Z-S_Er-2PoR",
        "5hHLUPv43LM1",
        "Rq1FUgTICQT7",
        "Ay-G4h7SDbMS",
        "cOj7qsGXRo2i",
        "rG9NFREqSRUb",
        "CjRQELRaIH9b"
      ],
      "mount_file_id": "1H63c9pLIfJyMPfFf0qD_yURHV-wn7zcr",
      "authorship_tag": "ABX9TyPsWnqHiRgr6g4DblF1xUiL",
      "include_colab_link": true
    },
    "kernelspec": {
      "name": "python3",
      "display_name": "Python 3"
    },
    "language_info": {
      "name": "python"
    }
  },
  "cells": [
    {
      "cell_type": "markdown",
      "metadata": {
        "id": "view-in-github",
        "colab_type": "text"
      },
      "source": [
        "<a href=\"https://colab.research.google.com/github/ornenovino/python_course_eim/blob/main/intro_py_m1.ipynb\" target=\"_parent\"><img src=\"https://colab.research.google.com/assets/colab-badge.svg\" alt=\"Open In Colab\"/></a>"
      ]
    },
    {
      "cell_type": "markdown",
      "source": [
        "# Introducción a la programación en python"
      ],
      "metadata": {
        "id": "1GsYq-JjlgWj"
      }
    },
    {
      "cell_type": "markdown",
      "source": [
        "## Primeros pasos en Google Collab"
      ],
      "metadata": {
        "id": "8Z-S_Er-2PoR"
      }
    },
    {
      "cell_type": "markdown",
      "source": [
        "Esta herramienta nos permite ejecutar código en Python sin tener que instalar absolutamente nada en nuestra computadora, ya que este funciona a través del navegador web y lo que nos permite al mismo tiempo consumir recursos informáticos sin costo alguno.\n",
        "\n",
        "Basado en los conocidos Jupyter Notebooks (cuadernos) este programa brinda la posibilidad de incertar celdas celdas. \n",
        "\n",
        "Las mismas pueden contener:\n",
        "\n",
        "- Código (Python) aunque también se puede correr Julia.\n",
        "- Texto (Lenguaje Markdown) se puede acceder la documentación para conocer la sintaxis básica de este lenguaje de maquetado [aquí](https://www.markdownguide.org/cheat-sheet/)\n"
      ],
      "metadata": {
        "id": "lL67zvER2ypt"
      }
    },
    {
      "cell_type": "markdown",
      "source": [
        "## ¿Cómo funciona?\n",
        "\n"
      ],
      "metadata": {
        "id": "5hHLUPv43LM1"
      }
    },
    {
      "cell_type": "markdown",
      "source": [
        "### Celdas de texto"
      ],
      "metadata": {
        "id": "NuioJopcA3IG"
      }
    },
    {
      "cell_type": "markdown",
      "source": [
        "Se incertan celdas de acuerdo a la necesidad del usuario. Es recomendado mediante las buenas prácticas detallar lo que se encuentra en código para poder específicar lo que esta sucediendo."
      ],
      "metadata": {
        "id": "g15ic17S60Mk"
      }
    },
    {
      "cell_type": "markdown",
      "source": [
        "Mediante el siguiente shortcut `CMD/CTRL M + h` se pueden acceder a la totalidad de shortcuts que GC tiene disponible para hacer más rápida la edición en esta herramienta e incluso editarlos de acuerdo a nuestras preferencias.\n",
        "\n",
        "Ejemplos básicos pueden ser:\n",
        "\n",
        "- Reacer la última acción: ctrl + m + z\n",
        "- Encontrar y reemplazar: ctrl + m + h\n",
        "- Insertar una celda de código por encima: ctrl + m + a\n",
        "- Insertar una celda de código por debajo: ctrl + m + b\n",
        "- Eliminar una celda: ctrl + m + d\n",
        "\n",
        "*Si tu sistema operativo es macOS se debe de reemplazar el `ctrl` con `CMD`*"
      ],
      "metadata": {
        "id": "yk0FV_Tb3O4x"
      }
    },
    {
      "cell_type": "markdown",
      "source": [
        "Todas las celdas que hemos visto hasta este punto del notebook son de texto, pero ¿en qué se diferencian de las de código? Ahora lo vemos."
      ],
      "metadata": {
        "id": "zinpZqhq8PWH"
      }
    },
    {
      "cell_type": "markdown",
      "source": [
        "### Celdas de código"
      ],
      "metadata": {
        "id": "-CPIMZDZA6wy"
      }
    },
    {
      "cell_type": "code",
      "source": [
        "Esto es una celda de código."
      ],
      "metadata": {
        "id": "4Yl7qXjx2uw8"
      },
      "execution_count": null,
      "outputs": []
    },
    {
      "cell_type": "markdown",
      "source": [
        "¿Cómo se diferencian las celdas de texto de las de código? De varias formas, primero el color de fondo es más oscuro, mientras que al mismo tiempo todo lo que contenga se puede ejecutar. \n",
        "\n",
        "El código se ejecuta de varias formas:\n",
        "\n",
        "- Precionando el botón de play al comienzo de la celda, correra la totalidad de lo que esta dentro.\n",
        "- Presionando la siguiente short cut `shift + ctrl`\n",
        "\n",
        "Esto significa que principalmente todo el texto que no corresponda a la sintaxis de Python en este caso, dentro de las mismas se debe de comentar, sino al ejecutarle nos dara un error. \n",
        "\n",
        "Esto sucede porque el interprete simplemente reconoce comandos, métodos, funciones propias del lenguaje.\n",
        "\n",
        "Probemos ejecutando la celda de arriba y observemos que nos retorna por consola. \n",
        "\n",
        "Nos arroja un error de `SyntaxError: invalid syntax` justamente por lo detallado anteriormente, el lenguaje no reconoce que significa eso."
      ],
      "metadata": {
        "id": "pwHkr38Q_KBx"
      }
    },
    {
      "cell_type": "markdown",
      "source": [
        "Para comentar texto dentro de una celda de código en Python y que el interprete lo reconozca como texto y no otra cosa, para ignorarlo es mediante un numeral `#`"
      ],
      "metadata": {
        "id": "mDDPJfRRAlLl"
      }
    },
    {
      "cell_type": "code",
      "source": [
        "# Esto es un comentario en Python, proba ejecutar esta celda."
      ],
      "metadata": {
        "id": "Z3M7iXY-BdhN"
      },
      "execution_count": 3,
      "outputs": []
    },
    {
      "cell_type": "markdown",
      "source": [
        "A diferencia de la celda que ejecutamos sin el `#` en este caso nos aparece un ✅ indicando que la misma se ejecuto correctamente y no en rojo como la anterior, junto con el error detallado."
      ],
      "metadata": {
        "id": "RC2a2exiBU-F"
      }
    },
    {
      "cell_type": "markdown",
      "source": [
        "# Módulo 1: Introducción a Python"
      ],
      "metadata": {
        "id": "NmXKlkNsCCMX"
      }
    },
    {
      "cell_type": "markdown",
      "source": [
        "## ¿Que es Python?\n",
        "\n",
        "Python es un lenguaje de programación ampliamente utilizado en las aplicaciones web, el desarrollo de software, la ciencia de datos y el machine learning (ML). Los desarrolladores utilizan Python porque es eficiente y fácil de aprender, además de que se puede ejecutar en muchas plataformas diferentes. El software Python se puede descargar gratis, se integra bien a todos los tipos de sistemas y aumenta la velocidad del desarrollo.\n",
        "\n",
        "Sirve para varias cosas:\n",
        "\n",
        "- Desarrollo web del lado del servidor\n",
        "- Automatización con scripts de Python\n",
        "- Realizar tareas de ciencia de datos y machine learning\n",
        "- Desarrollo de software\n",
        "- Automatización de pruebas de software\n",
        "\n",
        "Fuente: [aws](https://aws.amazon.com/es/what-is/python/)"
      ],
      "metadata": {
        "id": "Rq1FUgTICQT7"
      }
    },
    {
      "cell_type": "markdown",
      "source": [
        "En este curso aprenderemos Python para realizar lo que detalla el punto número tres. Realizar análisis de datos."
      ],
      "metadata": {
        "id": "aS_07EzEDRvG"
      }
    },
    {
      "cell_type": "code",
      "source": [
        "# Para mostrar resultados en consola se puede colocar un valor, una variable o hacerlo mediante el método print()\n",
        "print('¡Bienvenidos al curso Introducción a la programación en Python!')"
      ],
      "metadata": {
        "id": "AYZvh2szTb9-"
      },
      "execution_count": null,
      "outputs": []
    },
    {
      "cell_type": "markdown",
      "source": [
        "## Operaciones arimétricas\n",
        "\n",
        "Python nos permite realizar operaciones arimétricas, tales csuma, resta, multiplicación, división, potenciación o división entera. Mediante determinados operadores que se detallaran a continuación."
      ],
      "metadata": {
        "id": "Ay-G4h7SDbMS"
      }
    },
    {
      "cell_type": "code",
      "source": [
        "# La suma se realiza colocando un simbolo de + entre los valores a sumar\n",
        "2 + 2 "
      ],
      "metadata": {
        "id": "ourXuxlUB-zQ"
      },
      "execution_count": null,
      "outputs": []
    },
    {
      "cell_type": "code",
      "source": [
        "# Resta\n",
        "3 - 2"
      ],
      "metadata": {
        "id": "9ffTO3FqH0ez"
      },
      "execution_count": null,
      "outputs": []
    },
    {
      "cell_type": "code",
      "source": [
        "# Division\n",
        "10 / 2"
      ],
      "metadata": {
        "id": "4YeyxpNvH2ed"
      },
      "execution_count": null,
      "outputs": []
    },
    {
      "cell_type": "code",
      "source": [
        "# Divisón entera\n",
        "10 // 3"
      ],
      "metadata": {
        "id": "oYTMM8WCRUSX"
      },
      "execution_count": null,
      "outputs": []
    },
    {
      "cell_type": "code",
      "source": [
        "# Multiplicación\n",
        "2 * 2"
      ],
      "metadata": {
        "id": "msFhMmJ0H4te"
      },
      "execution_count": null,
      "outputs": []
    },
    {
      "cell_type": "code",
      "source": [
        "# Módulos\n",
        "2 % 2"
      ],
      "metadata": {
        "id": "_Ej8ObonH6YL"
      },
      "execution_count": null,
      "outputs": []
    },
    {
      "cell_type": "code",
      "source": [
        "# Exponenciación\n",
        "2 ** 2"
      ],
      "metadata": {
        "id": "gURsBSILRcUi"
      },
      "execution_count": null,
      "outputs": []
    },
    {
      "cell_type": "markdown",
      "source": [
        "## Operadores relacionales (comparadores)"
      ],
      "metadata": {
        "id": "cOj7qsGXRo2i"
      }
    },
    {
      "cell_type": "markdown",
      "source": [
        "Se debe de tener en cuenta que para que estos funcionen los valores a comparar sean compatibles en tipo."
      ],
      "metadata": {
        "id": "0Let57yRSGYY"
      }
    },
    {
      "cell_type": "code",
      "source": [
        "# Igual que\n",
        "1 == 1"
      ],
      "metadata": {
        "id": "56MYdP_6RohJ"
      },
      "execution_count": null,
      "outputs": []
    },
    {
      "cell_type": "code",
      "source": [
        "# Diferente que\n",
        "2 != 1"
      ],
      "metadata": {
        "id": "B0yRKlDwR2QK"
      },
      "execution_count": null,
      "outputs": []
    },
    {
      "cell_type": "code",
      "source": [
        "# Mayor que\n",
        "9 > 10"
      ],
      "metadata": {
        "id": "yAZGFHrNR68o"
      },
      "execution_count": null,
      "outputs": []
    },
    {
      "cell_type": "code",
      "source": [
        "# Menor que\n",
        "7 < 14"
      ],
      "metadata": {
        "id": "UxdVR1zcR-re"
      },
      "execution_count": null,
      "outputs": []
    },
    {
      "cell_type": "markdown",
      "source": [
        "## Operadores lógicos"
      ],
      "metadata": {
        "id": "rG9NFREqSRUb"
      }
    },
    {
      "cell_type": "code",
      "source": [
        "# And\n",
        "True and True"
      ],
      "metadata": {
        "id": "gVXVLjLiSDLt"
      },
      "execution_count": null,
      "outputs": []
    },
    {
      "cell_type": "code",
      "source": [
        "# Or\n",
        "False or True"
      ],
      "metadata": {
        "id": "dQ6uYhW4SbKk"
      },
      "execution_count": null,
      "outputs": []
    },
    {
      "cell_type": "code",
      "source": [
        "# not\n",
        "not True"
      ],
      "metadata": {
        "id": "FtrIZ6pcSeM9"
      },
      "execution_count": null,
      "outputs": []
    },
    {
      "cell_type": "markdown",
      "source": [
        "## Asignar valores a variables (declaración)"
      ],
      "metadata": {
        "id": "CjRQELRaIH9b"
      }
    },
    {
      "cell_type": "markdown",
      "source": [
        "Las variables son contenedores que ocupan espacion en la memoria, tienen características dependiendo de lo que contienen y permiten su reutilización durante todo el programa o el proceso de análisis de datos."
      ],
      "metadata": {
        "id": "G0i0WdliKHJl"
      }
    },
    {
      "cell_type": "code",
      "source": [
        "a = 2 # asignación de un valor numérico a una variable\n",
        "b = 3 \n",
        "\n",
        "a + b # se pueden realizar operaciones arimétricas con las mismas"
      ],
      "metadata": {
        "id": "G8nJDf-w0g4R"
      },
      "execution_count": null,
      "outputs": []
    },
    {
      "cell_type": "code",
      "source": [
        "x, y = 3, 2 # también se pueen declarar en una misma línea\n",
        "\n",
        "x"
      ],
      "metadata": {
        "id": "FVCE_fIeliCG"
      },
      "execution_count": null,
      "outputs": []
    },
    {
      "cell_type": "code",
      "source": [
        "# también se pueden sobreescribir\n",
        "x = 5\n",
        "x"
      ],
      "metadata": {
        "id": "SSynygrdRkqc"
      },
      "execution_count": null,
      "outputs": []
    },
    {
      "cell_type": "markdown",
      "source": [
        "## Tipos de variables"
      ],
      "metadata": {
        "id": "axG_J6DfK-ak"
      }
    },
    {
      "cell_type": "markdown",
      "source": [
        "Existen cuatro tipos primitivos: \n",
        "\n",
        "- Enteros\n",
        "- Flotantes \n",
        "- Booleanos\n",
        "- Cadenas\n",
        "- Strings"
      ],
      "metadata": {
        "id": "z_wCtcjELI_d"
      }
    },
    {
      "cell_type": "code",
      "source": [
        "# Números enteros positivos o negativos reconocidos como int\n",
        "ano_nacimiento = 1993\n",
        "type(ano_nacimiento) # el método interno de Python type() tiene como output el tipo de información que contiene una variable"
      ],
      "metadata": {
        "id": "ygGRI_Q_lhJT"
      },
      "execution_count": null,
      "outputs": []
    },
    {
      "cell_type": "code",
      "source": [
        "# Flotantes con decimales, de coma\n",
        "numero_pi = 3.1416\n",
        "type(numero_pi)"
      ],
      "metadata": {
        "id": "3zyp38TmL-Ok"
      },
      "execution_count": null,
      "outputs": []
    },
    {
      "cell_type": "code",
      "source": [
        "# Booleanos o lógicos que asumen valores de True o False\n",
        "hace_frio = True\n",
        "type(hace_frio)"
      ],
      "metadata": {
        "id": "BNEzRvbG0MHJ"
      },
      "execution_count": null,
      "outputs": []
    },
    {
      "cell_type": "code",
      "source": [
        "# String cadenas de caracteres o texto que se colocan entre comillas simples '' o dobles \"\"\n",
        "nombre = 'Juan Perez'\n",
        "type(nombre)\n",
        "\n",
        "# Podemos mediante el método len() sabremos el largo de la cadena de caracteres\n",
        "len(nombre)\n",
        "\n",
        "# También se pueden concatenar\n",
        "print(nombre + \" su nota de la clase es: 8\")\n",
        "\n",
        "# Los caracteres pueden ser sliced (cortados) de acuerdo a su índice\n",
        "nombre[0]"
      ],
      "metadata": {
        "colab": {
          "base_uri": "https://localhost:8080/",
          "height": 53
        },
        "id": "-gmVsYNGMsT4",
        "outputId": "a8feaa19-d9ba-41b3-ef6f-ada24c10a0ba"
      },
      "execution_count": 11,
      "outputs": [
        {
          "output_type": "stream",
          "name": "stdout",
          "text": [
            "Juan Perez su nota de la clase es: 8\n"
          ]
        },
        {
          "output_type": "execute_result",
          "data": {
            "text/plain": [
              "'J'"
            ],
            "application/vnd.google.colaboratory.intrinsic+json": {
              "type": "string"
            }
          },
          "metadata": {},
          "execution_count": 11
        }
      ]
    },
    {
      "cell_type": "markdown",
      "source": [
        "### Listas, Tuples y Diccionarios"
      ],
      "metadata": {
        "id": "WCaoVEvyS2Dz"
      }
    },
    {
      "cell_type": "markdown",
      "source": [
        "**Listas**\n"
      ],
      "metadata": {
        "id": "Q1fSSNNDP2o9"
      }
    },
    {
      "cell_type": "code",
      "source": [
        "# Se pueden crear listas \n",
        "notas_clase = [5, 8, 9, 9, 6]\n",
        "type(notas_clase)"
      ],
      "metadata": {
        "colab": {
          "base_uri": "https://localhost:8080/"
        },
        "id": "SW7hQeT6S7DF",
        "outputId": "7cbe037f-0948-4b25-d9b7-f57b1dab36be"
      },
      "execution_count": 16,
      "outputs": [
        {
          "output_type": "execute_result",
          "data": {
            "text/plain": [
              "list"
            ]
          },
          "metadata": {},
          "execution_count": 16
        }
      ]
    },
    {
      "cell_type": "code",
      "source": [
        "# La indexación es clave a la hora de trabajar con listas\n",
        "# y acceder a los elementos de las mismas\n",
        "print(notas_clase[0], notas_clase[1])"
      ],
      "metadata": {
        "id": "9ZlLyXwFTG3y"
      },
      "execution_count": null,
      "outputs": []
    },
    {
      "cell_type": "code",
      "source": [
        "# se pueden agregar o \n",
        "notas_clase.append(10) # agregar un elemento al final de la lista\n",
        "print(notas_clase)\n",
        "\n",
        "# o a través de un método\n",
        "notas_clase.insert(0, 5)\n",
        "print(notas_clase)\n",
        "\n",
        "# modificar elementos de acuerdo al indice\n",
        "notas_clase[0] = 8\n",
        "print(notas_clase)"
      ],
      "metadata": {
        "id": "D9VF0sNSatbq"
      },
      "execution_count": null,
      "outputs": []
    },
    {
      "cell_type": "code",
      "source": [
        "# eliminar elementos de una lista\n",
        "notas_clase.remove(10)\n",
        "print(notas_clase)\n",
        "\n",
        "# quita el elemento según el índice\n",
        "notas_clase.pop(6)\n",
        "print(notas_clase)"
      ],
      "metadata": {
        "colab": {
          "base_uri": "https://localhost:8080/"
        },
        "id": "y1zl0zt0a1tm",
        "outputId": "50127696-0997-4a13-d4c1-949ba4b410f5"
      },
      "execution_count": 36,
      "outputs": [
        {
          "output_type": "stream",
          "name": "stdout",
          "text": [
            "[8, 8, 5, 8, 9, 9, 6]\n",
            "[8, 8, 5, 8, 9, 9]\n"
          ]
        }
      ]
    },
    {
      "cell_type": "markdown",
      "source": [
        "**Tuplas**"
      ],
      "metadata": {
        "id": "ia5F9gr3PxIV"
      }
    },
    {
      "cell_type": "markdown",
      "source": [
        "Al igual qure las listas pueden contener varios elementos, pero no tiene métodos que permitan modificarlas."
      ],
      "metadata": {
        "id": "vleZ5oY0P9vs"
      }
    },
    {
      "cell_type": "code",
      "source": [
        "paises = ('Argentina', 'Brasil', 'Bolivia', 'Chile', 'Uruguay')"
      ],
      "metadata": {
        "id": "7dFQP9SfQIRI"
      },
      "execution_count": 2,
      "outputs": []
    },
    {
      "cell_type": "code",
      "source": [
        "# al igual que las listas se puede acceder a sus elementos mediante el índice\n",
        "paises[0]"
      ],
      "metadata": {
        "id": "E9B_amgHQQv9"
      },
      "execution_count": null,
      "outputs": []
    },
    {
      "cell_type": "code",
      "source": [
        "# si intentamos modificar el tuple nos debería de arrojar un error\n",
        "paises[0] = 'Venezuela'"
      ],
      "metadata": {
        "id": "E9YqbzpKUX5b"
      },
      "execution_count": null,
      "outputs": []
    },
    {
      "cell_type": "markdown",
      "source": [
        "**Diccionarios**"
      ],
      "metadata": {
        "id": "S3ccGQ7ZUpke"
      }
    },
    {
      "cell_type": "markdown",
      "source": [
        "Los diccionarios también son colecciones de elementos como las listas o los tuples, pero tiene una diferencia que es que sus elementos se deben de almacenar en un formato de `clave: valor`"
      ],
      "metadata": {
        "id": "K6WT6ZoZUyUq"
      }
    },
    {
      "cell_type": "code",
      "source": [
        "# definiminos un diccionario con los nombres y las notas de los alumnos\n",
        "alumno_nota = {\"Juana\": 5, \"María\": 8, \"Lucía\": 9, \"Mercedes\": 10}"
      ],
      "metadata": {
        "id": "8_ZlOmPIVlV4"
      },
      "execution_count": 8,
      "outputs": []
    },
    {
      "cell_type": "code",
      "source": [
        "alumno_nota['Mercedes']"
      ],
      "metadata": {
        "colab": {
          "base_uri": "https://localhost:8080/"
        },
        "id": "7I_iT-XKV3eU",
        "outputId": "a6cc8186-550f-4783-ae89-537308dd9474"
      },
      "execution_count": 7,
      "outputs": [
        {
          "output_type": "execute_result",
          "data": {
            "text/plain": [
              "10"
            ]
          },
          "metadata": {},
          "execution_count": 7
        }
      ]
    },
    {
      "cell_type": "markdown",
      "source": [
        "## Estructuras de control"
      ],
      "metadata": {
        "id": "ZAzZWj9oMr4P"
      }
    },
    {
      "cell_type": "markdown",
      "source": [
        "Estas son escenciales para el desarrollo de cualquier programa, incluso para el análisis de datos."
      ],
      "metadata": {
        "id": "gvUZjr8FT9Ov"
      }
    },
    {
      "cell_type": "markdown",
      "source": [
        "### Estrucutra `**if-elif-else**`"
      ],
      "metadata": {
        "id": "dH6tQkU0XsKr"
      }
    },
    {
      "cell_type": "code",
      "source": [
        "# utilizando la lista -notas_clase- vamos a comparar algunos valores de acuerdo a ciertas condiciones\n",
        "# notas_clase = [5, 8, 9, 9, 6]\n",
        "\n",
        "if notas_clase[0] >= 7: # la condicion es saber si la nota es mayor o igual que 7 entonces aprobó el curso\n",
        "    print(\"Aprobo el curso\")\n",
        "else: # sino no lo aprueba\n",
        "    print(\"No aprobo el curso\")\n",
        "\n",
        "# hay que tener en cuenta que la indentción es crucial en python\n",
        "\n",
        "# se pueden agregar más de una condición\n",
        "if notas_clase[0] >= 7:\n",
        "  print(\"Aprobo el curso\")\n",
        "elif notas_clase[0] >= 5 and notas_clase[0] < 7:\n",
        "  print(\"Debe dar examen\")\n",
        "else:\n",
        "  print(\"No aprobo el curso\")\n"
      ],
      "metadata": {
        "id": "XDq7moQJUBik"
      },
      "execution_count": null,
      "outputs": []
    },
    {
      "cell_type": "markdown",
      "source": [
        "### Ciclos `for-while`"
      ],
      "metadata": {
        "id": "PsD6bKrkY_DV"
      }
    },
    {
      "cell_type": "code",
      "source": [
        "# podemos iterar sobre los elementos de una lista mediante un ciclo for\n",
        "# que termina de acuerdo a la cantidad de elementos que esta contiene\n",
        "\n",
        "for nota in notas_clase:\n",
        "  print(nota)"
      ],
      "metadata": {
        "id": "0dMcd60hUB_w"
      },
      "execution_count": null,
      "outputs": []
    },
    {
      "cell_type": "code",
      "source": [
        "# también podemos iterar con un while pero hay que tener cuidado con estos\n",
        "# porque estos iteran hasta que se cumpla la condicion\n",
        "valor = 1\n",
        "\n",
        "while valor < 10:\n",
        "  print(valor)\n",
        "  valor += 1"
      ],
      "metadata": {
        "id": "zLD4kk1TatAt"
      },
      "execution_count": null,
      "outputs": []
    },
    {
      "cell_type": "markdown",
      "source": [
        "## Funciones"
      ],
      "metadata": {
        "id": "z8MklPFtb7oo"
      }
    },
    {
      "cell_type": "markdown",
      "source": [
        "## Funciones o métodos que vienen por defecto o (built-in) en Python"
      ],
      "metadata": {
        "id": "cOeBlQe6cOsB"
      }
    },
    {
      "cell_type": "code",
      "source": [
        "# claros ejemplos son los que utilizamos hasta ahora\n",
        "print('¡Hola!')\n",
        "\n",
        "# incluso hay algunas que permiten cosas más interesantes\n",
        "# por ejemplo obtener el máximo, mínimo, rendondear\n",
        "\n",
        "notas_nuevas = [2, 3, 6, 9, 11, 21, 33, 45]\n",
        "\n",
        "print(max(notas_nuevas))\n",
        "print(min(notas_nuevas))\n"
      ],
      "metadata": {
        "colab": {
          "base_uri": "https://localhost:8080/"
        },
        "id": "leGVb_Xjc3Ep",
        "outputId": "b13a8cb1-ea75-4037-9468-403fc5ec1e38"
      },
      "execution_count": 22,
      "outputs": [
        {
          "output_type": "stream",
          "name": "stdout",
          "text": [
            "¡Hola!\n",
            "45\n",
            "2\n"
          ]
        }
      ]
    },
    {
      "cell_type": "markdown",
      "source": [
        "## Funciones definidas por el usuario"
      ],
      "metadata": {
        "id": "gdAESCX0dPa0"
      }
    },
    {
      "cell_type": "markdown",
      "source": [
        "Como cualquier lenguaje de programación una ventaja que tiene Python es que podemos reailzar nuestras propias funciones."
      ],
      "metadata": {
        "id": "Kw94QjEedx7M"
      }
    },
    {
      "cell_type": "code",
      "source": [
        "def promedio(notas): # se define el nombre de la función y agregan los parámetros necesarios\n",
        "  total = 0 # creamos una variable con scope dentro de la función que inicializa en 0 \n",
        "  for numero in notas: # iteramos por cada una de las notas\n",
        "    total += numero # sumamos el valor de cada nota y lo almacenamos en la variable inicializada\n",
        "  return total / len(notas) # retornamos el valor del total de la sumatoria de las notas sobre el tamaño de la lista\n",
        "\n",
        "promedio(notas_nuevas) # corremos la función y nos dará el promedio"
      ],
      "metadata": {
        "colab": {
          "base_uri": "https://localhost:8080/"
        },
        "id": "K8RIUq6ad6Tp",
        "outputId": "55fb811b-2222-451e-cb5a-a2b2834c16cf"
      },
      "execution_count": 23,
      "outputs": [
        {
          "output_type": "execute_result",
          "data": {
            "text/plain": [
              "16.25"
            ]
          },
          "metadata": {},
          "execution_count": 23
        }
      ]
    },
    {
      "cell_type": "markdown",
      "source": [
        "Como acabamos de ver las funciones pueden contener ciclos for, o cualquier cosa que querramos. Se debe de tener en cuenta que la indentación es escencial, como la estructura."
      ],
      "metadata": {
        "id": "7MOJSRsBeax8"
      }
    },
    {
      "cell_type": "markdown",
      "source": [
        "# Ejercicios"
      ],
      "metadata": {
        "id": "swLTsKP7flSe"
      }
    },
    {
      "cell_type": "code",
      "source": [
        "# 1. Definir variables según su tipo\n",
        "peso = ...\n",
        "temperatura = ...\n",
        "tiene_fiebre = ...\n",
        "altura = ...\n",
        "nombre_completo = ...\n",
        "lista_de_marcas = ...\n",
        "artista_canción = ..."
      ],
      "metadata": {
        "id": "gh3GexbBiitL"
      },
      "execution_count": 1,
      "outputs": []
    },
    {
      "cell_type": "code",
      "source": [
        "# 2. Comparación de valores contestar en texto que retornarían\n",
        "\n",
        "True == True # ...\n",
        "6 > 10 # ..."
      ],
      "metadata": {
        "id": "kdwKHMnIh4Ui"
      },
      "execution_count": null,
      "outputs": []
    },
    {
      "cell_type": "code",
      "source": [
        "# 2. Definir una función calcular la edad de una persona sabiendo su año de nacimiento\n",
        "def edad(ano_nacimiento):\n",
        "  return edad"
      ],
      "metadata": {
        "id": "6LCilnbhl3Zi"
      },
      "execution_count": null,
      "outputs": []
    },
    {
      "cell_type": "code",
      "source": [
        "# 3. Definir una función para calcular la sumatoria de todos los números de la lista\n",
        "lista = [10, 20, 30, 40, 50, 60, 70]\n",
        "\n",
        "def total(list):\n",
        "  total = 0\n",
        "  return total"
      ],
      "metadata": {
        "id": "OBKH74nAg73V"
      },
      "execution_count": null,
      "outputs": []
    }
  ]
}